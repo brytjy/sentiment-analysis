{
 "cells": [
  {
   "cell_type": "markdown",
   "metadata": {},
   "source": [
    "# Sentiment Analysis using TF-IDF on SVM, Naive Bayes, KNN, LDA and NN"
   ]
  },
  {
   "cell_type": "code",
   "execution_count": 1,
   "metadata": {},
   "outputs": [
    {
     "name": "stderr",
     "output_type": "stream",
     "text": [
      "Using TensorFlow backend.\n"
     ]
    }
   ],
   "source": [
    "# IMPORT PACKAGES\n",
    "\n",
    "import pandas as pd\n",
    "import nltk\n",
    "import re\n",
    "import numpy as np\n",
    "from nltk.corpus import stopwords\n",
    "stop_words = stopwords.words(\"english\")\n",
    "from sklearn.preprocessing import LabelEncoder\n",
    "from sklearn.feature_extraction.text import TfidfVectorizer\n",
    "from sklearn.feature_extraction.text import CountVectorizer\n",
    "from sklearn import model_selection, naive_bayes, svm\n",
    "from sklearn.metrics import accuracy_score\n",
    "from sklearn.discriminant_analysis import LinearDiscriminantAnalysis\n",
    "from sklearn.model_selection import KFold\n",
    "from sklearn.neighbors import KNeighborsClassifier\n",
    "from keras import Sequential\n",
    "from keras.layers import Dense, Dropout, Activation\n",
    "from keras import models\n",
    "from keras import layers\n",
    "from sklearn.preprocessing import OneHotEncoder\n",
    "from sklearn.metrics import confusion_matrix\n",
    "import matplotlib.pyplot as plt\n",
    "from sklearn.metrics import classification_report\n",
    "import keras\n",
    "np.set_printoptions(threshold=np.inf)"
   ]
  },
  {
   "cell_type": "markdown",
   "metadata": {},
   "source": [
    "## Load Data Set"
   ]
  },
  {
   "cell_type": "code",
   "execution_count": 2,
   "metadata": {},
   "outputs": [
    {
     "data": {
      "text/plain": [
       "label\n",
       "0    2458\n",
       "1      27\n",
       "2     342\n",
       "3     622\n",
       "4       7\n",
       "5    2236\n",
       "dtype: int64"
      ]
     },
     "execution_count": 2,
     "metadata": {},
     "output_type": "execute_result"
    }
   ],
   "source": [
    "np_raw = np.load('jira_raw.npz')\n",
    "data = {'text': np_raw[\"raw_docs\"], 'label': np_raw[\"labels\"]}\n",
    "df = pd.DataFrame(data)\n",
    "\n",
    "df.groupby('label').size()"
   ]
  },
  {
   "cell_type": "markdown",
   "metadata": {},
   "source": [
    "## Pre-processing"
   ]
  },
  {
   "cell_type": "code",
   "execution_count": 3,
   "metadata": {},
   "outputs": [
    {
     "data": {
      "text/html": [
       "<div>\n",
       "<style scoped>\n",
       "    .dataframe tbody tr th:only-of-type {\n",
       "        vertical-align: middle;\n",
       "    }\n",
       "\n",
       "    .dataframe tbody tr th {\n",
       "        vertical-align: top;\n",
       "    }\n",
       "\n",
       "    .dataframe thead th {\n",
       "        text-align: right;\n",
       "    }\n",
       "</style>\n",
       "<table border=\"1\" class=\"dataframe\">\n",
       "  <thead>\n",
       "    <tr style=\"text-align: right;\">\n",
       "      <th></th>\n",
       "      <th>text</th>\n",
       "      <th>label</th>\n",
       "    </tr>\n",
       "  </thead>\n",
       "  <tbody>\n",
       "    <tr>\n",
       "      <th>0</th>\n",
       "      <td>yeah patch great categories bug</td>\n",
       "      <td>0</td>\n",
       "    </tr>\n",
       "    <tr>\n",
       "      <th>1</th>\n",
       "      <td>upgrade recent version jackrabbit see http wik...</td>\n",
       "      <td>3</td>\n",
       "    </tr>\n",
       "    <tr>\n",
       "      <th>2</th>\n",
       "      <td>sorry</td>\n",
       "      <td>3</td>\n",
       "    </tr>\n",
       "    <tr>\n",
       "      <th>3</th>\n",
       "      <td>looks good</td>\n",
       "      <td>0</td>\n",
       "    </tr>\n",
       "    <tr>\n",
       "      <th>4</th>\n",
       "      <td>brock commented two test failed org apache had...</td>\n",
       "      <td>5</td>\n",
       "    </tr>\n",
       "    <tr>\n",
       "      <th>5</th>\n",
       "      <td>count protected lock also extract removeat inv...</td>\n",
       "      <td>5</td>\n",
       "    </tr>\n",
       "    <tr>\n",
       "      <th>6</th>\n",
       "      <td>thanks amar</td>\n",
       "      <td>0</td>\n",
       "    </tr>\n",
       "    <tr>\n",
       "      <th>7</th>\n",
       "      <td>hi holly thanks one comment code internalrecur...</td>\n",
       "      <td>0</td>\n",
       "    </tr>\n",
       "    <tr>\n",
       "      <th>8</th>\n",
       "      <td>commit patch trunk thanks sameera</td>\n",
       "      <td>5</td>\n",
       "    </tr>\n",
       "    <tr>\n",
       "      <th>9</th>\n",
       "      <td>committed revision</td>\n",
       "      <td>5</td>\n",
       "    </tr>\n",
       "    <tr>\n",
       "      <th>10</th>\n",
       "      <td>said totally opposed making limit configurable</td>\n",
       "      <td>2</td>\n",
       "    </tr>\n",
       "    <tr>\n",
       "      <th>11</th>\n",
       "      <td>sorry look code commit test making hash long b...</td>\n",
       "      <td>3</td>\n",
       "    </tr>\n",
       "    <tr>\n",
       "      <th>12</th>\n",
       "      <td>quote really know much namedspiloader think su...</td>\n",
       "      <td>0</td>\n",
       "    </tr>\n",
       "    <tr>\n",
       "      <th>13</th>\n",
       "      <td>committed thanks aaron</td>\n",
       "      <td>0</td>\n",
       "    </tr>\n",
       "    <tr>\n",
       "      <th>14</th>\n",
       "      <td>quote even suppose also conceivable someone mi...</td>\n",
       "      <td>5</td>\n",
       "    </tr>\n",
       "    <tr>\n",
       "      <th>15</th>\n",
       "      <td>well user uploaded file first fileuploadfield ...</td>\n",
       "      <td>5</td>\n",
       "    </tr>\n",
       "    <tr>\n",
       "      <th>16</th>\n",
       "      <td>tilman hausherr hello finally works downloaded...</td>\n",
       "      <td>0</td>\n",
       "    </tr>\n",
       "    <tr>\n",
       "      <th>17</th>\n",
       "      <td>sorry redeploy patch</td>\n",
       "      <td>3</td>\n",
       "    </tr>\n",
       "    <tr>\n",
       "      <th>18</th>\n",
       "      <td>thanks much knut anders</td>\n",
       "      <td>0</td>\n",
       "    </tr>\n",
       "    <tr>\n",
       "      <th>19</th>\n",
       "      <td>release candidate patch patch contains add ip ...</td>\n",
       "      <td>0</td>\n",
       "    </tr>\n",
       "    <tr>\n",
       "      <th>20</th>\n",
       "      <td>new patch uses fs makequalified path suggested</td>\n",
       "      <td>5</td>\n",
       "    </tr>\n",
       "    <tr>\n",
       "      <th>21</th>\n",
       "      <td>thanks james rest build work patch seems like ...</td>\n",
       "      <td>0</td>\n",
       "    </tr>\n",
       "    <tr>\n",
       "      <th>22</th>\n",
       "      <td>committed thanks aaron</td>\n",
       "      <td>0</td>\n",
       "    </tr>\n",
       "    <tr>\n",
       "      <th>23</th>\n",
       "      <td>hi im sujan need send proposal gsoc airavata p...</td>\n",
       "      <td>0</td>\n",
       "    </tr>\n",
       "    <tr>\n",
       "      <th>24</th>\n",
       "      <td>committed branch trunk thanks gab</td>\n",
       "      <td>0</td>\n",
       "    </tr>\n",
       "    <tr>\n",
       "      <th>25</th>\n",
       "      <td>epl licence please look http people apache org...</td>\n",
       "      <td>5</td>\n",
       "    </tr>\n",
       "    <tr>\n",
       "      <th>26</th>\n",
       "      <td>close filecontext users supposed close filecon...</td>\n",
       "      <td>5</td>\n",
       "    </tr>\n",
       "    <tr>\n",
       "      <th>27</th>\n",
       "      <td>noticed public tweet bq wilhelmbierbaum true f...</td>\n",
       "      <td>2</td>\n",
       "    </tr>\n",
       "    <tr>\n",
       "      <th>28</th>\n",
       "      <td>patch effectively reverts hive change npe fixe...</td>\n",
       "      <td>5</td>\n",
       "    </tr>\n",
       "    <tr>\n",
       "      <th>29</th>\n",
       "      <td>applied thanks</td>\n",
       "      <td>0</td>\n",
       "    </tr>\n",
       "    <tr>\n",
       "      <th>...</th>\n",
       "      <td>...</td>\n",
       "      <td>...</td>\n",
       "    </tr>\n",
       "    <tr>\n",
       "      <th>5662</th>\n",
       "      <td>committed thanks maheshwaran</td>\n",
       "      <td>0</td>\n",
       "    </tr>\n",
       "    <tr>\n",
       "      <th>5663</th>\n",
       "      <td>group including qa agrees something</td>\n",
       "      <td>5</td>\n",
       "    </tr>\n",
       "    <tr>\n",
       "      <th>5664</th>\n",
       "      <td>hi jurgen yes probably good idea something eas...</td>\n",
       "      <td>0</td>\n",
       "    </tr>\n",
       "    <tr>\n",
       "      <th>5665</th>\n",
       "      <td>committed thanks raghu</td>\n",
       "      <td>0</td>\n",
       "    </tr>\n",
       "    <tr>\n",
       "      <th>5666</th>\n",
       "      <td>time work yet</td>\n",
       "      <td>3</td>\n",
       "    </tr>\n",
       "    <tr>\n",
       "      <th>5667</th>\n",
       "      <td>debugdll releasedll build configurations vs ac...</td>\n",
       "      <td>5</td>\n",
       "    </tr>\n",
       "    <tr>\n",
       "      <th>5668</th>\n",
       "      <td>patch looks good let remove work better implem...</td>\n",
       "      <td>0</td>\n",
       "    </tr>\n",
       "    <tr>\n",
       "      <th>5669</th>\n",
       "      <td>attach screenshot local security policy consol...</td>\n",
       "      <td>5</td>\n",
       "    </tr>\n",
       "    <tr>\n",
       "      <th>5670</th>\n",
       "      <td>committed branch trunk thanks patch mikhail</td>\n",
       "      <td>0</td>\n",
       "    </tr>\n",
       "    <tr>\n",
       "      <th>5671</th>\n",
       "      <td>hi gary think rather nice elegant patch mind w...</td>\n",
       "      <td>0</td>\n",
       "    </tr>\n",
       "    <tr>\n",
       "      <th>5672</th>\n",
       "      <td>different segments somewhat homogeneous stats ...</td>\n",
       "      <td>2</td>\n",
       "    </tr>\n",
       "    <tr>\n",
       "      <th>5673</th>\n",
       "      <td>believe relativity</td>\n",
       "      <td>0</td>\n",
       "    </tr>\n",
       "    <tr>\n",
       "      <th>5674</th>\n",
       "      <td>sorry new patch correct one still learning ropes</td>\n",
       "      <td>3</td>\n",
       "    </tr>\n",
       "    <tr>\n",
       "      <th>5675</th>\n",
       "      <td>works fine probably could done another valve l...</td>\n",
       "      <td>0</td>\n",
       "    </tr>\n",
       "    <tr>\n",
       "      <th>5676</th>\n",
       "      <td>er take two uploaded wrong thing</td>\n",
       "      <td>5</td>\n",
       "    </tr>\n",
       "    <tr>\n",
       "      <th>5677</th>\n",
       "      <td>hi leon thanks take look anyway thought refact...</td>\n",
       "      <td>0</td>\n",
       "    </tr>\n",
       "    <tr>\n",
       "      <th>5678</th>\n",
       "      <td>thanks scott committed last work svn rev</td>\n",
       "      <td>0</td>\n",
       "    </tr>\n",
       "    <tr>\n",
       "      <th>5679</th>\n",
       "      <td>add keyword patch description</td>\n",
       "      <td>5</td>\n",
       "    </tr>\n",
       "    <tr>\n",
       "      <th>5680</th>\n",
       "      <td>looks good commit patch</td>\n",
       "      <td>0</td>\n",
       "    </tr>\n",
       "    <tr>\n",
       "      <th>5681</th>\n",
       "      <td>oops mean leave</td>\n",
       "      <td>3</td>\n",
       "    </tr>\n",
       "    <tr>\n",
       "      <th>5682</th>\n",
       "      <td>hi ok commit trunk thanks</td>\n",
       "      <td>0</td>\n",
       "    </tr>\n",
       "    <tr>\n",
       "      <th>5683</th>\n",
       "      <td>committed branch trunk thanks review stack</td>\n",
       "      <td>0</td>\n",
       "    </tr>\n",
       "    <tr>\n",
       "      <th>5684</th>\n",
       "      <td>epl licence please look http people apache org...</td>\n",
       "      <td>5</td>\n",
       "    </tr>\n",
       "    <tr>\n",
       "      <th>5685</th>\n",
       "      <td>patch applied thanks</td>\n",
       "      <td>0</td>\n",
       "    </tr>\n",
       "    <tr>\n",
       "      <th>5686</th>\n",
       "      <td>yep bad</td>\n",
       "      <td>2</td>\n",
       "    </tr>\n",
       "    <tr>\n",
       "      <th>5687</th>\n",
       "      <td>pretty unlikely</td>\n",
       "      <td>2</td>\n",
       "    </tr>\n",
       "    <tr>\n",
       "      <th>5688</th>\n",
       "      <td>hi daisy could please dispatch review one team...</td>\n",
       "      <td>0</td>\n",
       "    </tr>\n",
       "    <tr>\n",
       "      <th>5689</th>\n",
       "      <td>quote totally know support delete would prefer...</td>\n",
       "      <td>5</td>\n",
       "    </tr>\n",
       "    <tr>\n",
       "      <th>5690</th>\n",
       "      <td>two ids initial access greid brock</td>\n",
       "      <td>5</td>\n",
       "    </tr>\n",
       "    <tr>\n",
       "      <th>5691</th>\n",
       "      <td>submit patch</td>\n",
       "      <td>5</td>\n",
       "    </tr>\n",
       "  </tbody>\n",
       "</table>\n",
       "<p>5692 rows × 2 columns</p>\n",
       "</div>"
      ],
      "text/plain": [
       "                                                   text  label\n",
       "0                       yeah patch great categories bug      0\n",
       "1     upgrade recent version jackrabbit see http wik...      3\n",
       "2                                                 sorry      3\n",
       "3                                            looks good      0\n",
       "4     brock commented two test failed org apache had...      5\n",
       "5     count protected lock also extract removeat inv...      5\n",
       "6                                           thanks amar      0\n",
       "7     hi holly thanks one comment code internalrecur...      0\n",
       "8                     commit patch trunk thanks sameera      5\n",
       "9                                    committed revision      5\n",
       "10       said totally opposed making limit configurable      2\n",
       "11    sorry look code commit test making hash long b...      3\n",
       "12    quote really know much namedspiloader think su...      0\n",
       "13                               committed thanks aaron      0\n",
       "14    quote even suppose also conceivable someone mi...      5\n",
       "15    well user uploaded file first fileuploadfield ...      5\n",
       "16    tilman hausherr hello finally works downloaded...      0\n",
       "17                                 sorry redeploy patch      3\n",
       "18                              thanks much knut anders      0\n",
       "19    release candidate patch patch contains add ip ...      0\n",
       "20       new patch uses fs makequalified path suggested      5\n",
       "21    thanks james rest build work patch seems like ...      0\n",
       "22                               committed thanks aaron      0\n",
       "23    hi im sujan need send proposal gsoc airavata p...      0\n",
       "24                    committed branch trunk thanks gab      0\n",
       "25    epl licence please look http people apache org...      5\n",
       "26    close filecontext users supposed close filecon...      5\n",
       "27    noticed public tweet bq wilhelmbierbaum true f...      2\n",
       "28    patch effectively reverts hive change npe fixe...      5\n",
       "29                                       applied thanks      0\n",
       "...                                                 ...    ...\n",
       "5662                       committed thanks maheshwaran      0\n",
       "5663                group including qa agrees something      5\n",
       "5664  hi jurgen yes probably good idea something eas...      0\n",
       "5665                             committed thanks raghu      0\n",
       "5666                                      time work yet      3\n",
       "5667  debugdll releasedll build configurations vs ac...      5\n",
       "5668  patch looks good let remove work better implem...      0\n",
       "5669  attach screenshot local security policy consol...      5\n",
       "5670        committed branch trunk thanks patch mikhail      0\n",
       "5671  hi gary think rather nice elegant patch mind w...      0\n",
       "5672  different segments somewhat homogeneous stats ...      2\n",
       "5673                                 believe relativity      0\n",
       "5674   sorry new patch correct one still learning ropes      3\n",
       "5675  works fine probably could done another valve l...      0\n",
       "5676                   er take two uploaded wrong thing      5\n",
       "5677  hi leon thanks take look anyway thought refact...      0\n",
       "5678           thanks scott committed last work svn rev      0\n",
       "5679                      add keyword patch description      5\n",
       "5680                            looks good commit patch      0\n",
       "5681                                    oops mean leave      3\n",
       "5682                          hi ok commit trunk thanks      0\n",
       "5683         committed branch trunk thanks review stack      0\n",
       "5684  epl licence please look http people apache org...      5\n",
       "5685                               patch applied thanks      0\n",
       "5686                                            yep bad      2\n",
       "5687                                    pretty unlikely      2\n",
       "5688  hi daisy could please dispatch review one team...      0\n",
       "5689  quote totally know support delete would prefer...      5\n",
       "5690                 two ids initial access greid brock      5\n",
       "5691                                       submit patch      5\n",
       "\n",
       "[5692 rows x 2 columns]"
      ]
     },
     "execution_count": 3,
     "metadata": {},
     "output_type": "execute_result"
    }
   ],
   "source": [
    "def cleanText(text):\n",
    "    result = text.lower()\n",
    "    result = re.sub('<.*?>', ' ', str(result))\n",
    "    result = re.sub('[^A-Za-z]+', ' ', result)\n",
    "    return result\n",
    "    \n",
    "df[\"text\"] = df[\"text\"].apply(lambda x: cleanText(x))\n",
    "df[\"text\"] = df[\"text\"].apply(lambda x: nltk.word_tokenize(x))\n",
    "\n",
    "def remove_stopwords(text):\n",
    "    new_token = []\n",
    "    for t in text:\n",
    "        if t not in stop_words:\n",
    "            new_token.append(t)\n",
    "    return new_token\n",
    "\n",
    "def join(text):\n",
    "    string = \", \".join(text)\n",
    "    string = string.replace(\",\", \"\")\n",
    "    return string\n",
    "\n",
    "\n",
    "df[\"text\"] = df[\"text\"].apply(lambda x: remove_stopwords(x))\n",
    "df[\"text\"] = df[\"text\"].apply(lambda x: join(x))\n",
    "df"
   ]
  },
  {
   "cell_type": "markdown",
   "metadata": {},
   "source": [
    "### TF-IDF"
   ]
  },
  {
   "cell_type": "code",
   "execution_count": 4,
   "metadata": {},
   "outputs": [],
   "source": [
    "X = df['text']\n",
    "Y = df['label']\n",
    "\n",
    "Tfidf_vect = TfidfVectorizer(max_features=5000)\n",
    "Tfidf_vect.fit(df['text'])\n",
    "X_Tfidf = Tfidf_vect.transform(X)"
   ]
  },
  {
   "cell_type": "code",
   "execution_count": 5,
   "metadata": {},
   "outputs": [
    {
     "name": "stdout",
     "output_type": "stream",
     "text": [
      "{'yeah': 4968, 'patch': 3145, 'great': 1816, 'categories': 585, 'bug': 513, 'upgrade': 4690, 'recent': 3514, 'version': 4768, 'jackrabbit': 2268, 'see': 3884, 'http': 1990, 'wiki': 4868, 'apache': 208, 'org': 3061, 'afraid': 92, 'say': 3835, 'much': 2849, 'sorry': 4100, 'looks': 2585, 'good': 1800, 'brock': 498, 'commented': 758, 'two': 4605, 'test': 4392, 'failed': 1482, 'hadoop': 1850, 'hive': 1942, 'cli': 689, 'testnegativeminimrclidriver': 4416, 'testnegativeclidriver': 4415, 'mapreduce': 2659, 'stack': 4161, 'trace': 4538, 'hcatalog': 1895, 'fileformats': 1540, 'testorcdynamicpartitioned': 4417, 'testhcatdynamicpartitionedtable': 4408, 'assert': 282, 'reproduce': 3653, 'count': 930, 'protected': 3377, 'lock': 2560, 'also': 146, 'extract': 1461, 'removeat': 3607, 'invoking': 2224, 'check': 624, 'make': 2629, 'sure': 4309, 'zero': 4985, 'chance': 606, 'could': 929, 'invalidate': 2216, 'extrac': 1460, 'thanks': 4434, 'amar': 154, 'hi': 1930, 'holly': 1954, 'one': 3025, 'comment': 757, 'code': 725, 'internalrecursivebundletracker': 2198, 'miss': 2785, 'source': 4105, 'lin': 2519, 'commit': 765, 'trunk': 4581, 'sameera': 3817, 'committed': 769, 'revision': 3730, 'said': 3812, 'totally': 4533, 'making': 2634, 'limit': 2515, 'configurable': 833, 'look': 2582, 'hash': 1886, 'long': 2578, 'byte': 536, 'bytebuffer': 537, 'quote': 3439, 'really': 3494, 'know': 2421, 'namedspiloader': 2870, 'think': 4441, 'suggesting': 4280, 'would': 4905, 'support': 4301, 'factories': 1479, 'loading': 2545, 'unrelated': 4665, 'classes': 668, 'like': 2513, 'resourceloader': 3675, 'assume': 293, 'classpath': 670, 'use': 4708, 'class': 667, 'forname': 1633, 'needs': 2890, 'discussion': 1177, 'input': 2149, 'uwe': 4727, 'help': 1915, 'works': 4897, 'charset': 620, 'ascii': 268, 'etc': 1365, 'already': 144, 'codecs': 728, 'postingsformats': 3266, 'codec': 727, 'listallcodecs': 2533, 'lucene': 2603, 'core': 912, 'src': 4149, 'resources': 3676, 'meta': 2734, 'inf': 2122, 'services': 3938, 'idea': 2017, 'basically': 371, 'register': 3564, 'jar': 2281, 'file': 1535, 'way': 4827, 'additional': 60, 'files': 1547, 'framework': 1643, 'load': 2540, 'tokenizerfactory': 4515, 'whitespace': 4863, 'something': 4093, 'simple': 4022, 'someone': 4091, 'need': 2887, 'solr': 4075, 'analysis': 165, 'xxx': 4959, 'namespace': 2873, 'able': 6, 'analyzer': 166, 'stuff': 4246, 'easily': 1260, 'whatever': 4857, 'package': 3103, 'want': 4815, 'added': 53, 'jars': 2284, 'automatically': 336, 'available': 340, 'mentioned': 2715, 'though': 4450, 'analyzers': 167, 'mind': 2765, 'provide': 3384, 'language': 2444, 'get': 1720, 'back': 352, 'anyway': 204, 'thats': 4435, 'another': 188, 'issue': 2253, 'worth': 4904, 'consideration': 857, 'modules': 2822, 'pluggable': 3229, 'hand': 1856, 'anything': 203, 'overkill': 3090, 'right': 3745, 'fit': 1573, 'aaron': 1, 'even': 1369, 'suppose': 4305, 'might': 2751, 'similarity': 4019, 'implementation': 2056, 'expensive': 1427, 'instantiate': 2164, 'ie': 2029, 'big': 414, 'memory': 2711, 'data': 994, 'structures': 4241, 'declare': 1047, 'instance': 2160, 'refer': 3539, 'name': 2868, 'many': 2651, 'different': 1148, 'fieldtype': 1532, 'case': 578, 'purpose': 3401, 'today': 4508, 'term': 4386, 'weighting': 4849, 'huge': 1997, 'structure': 4240, 'holder': 1951, 'mike': 2753, 'original': 3063, 'went': 4853, 'norms': 2950, 'future': 1679, 'either': 1289, 'otherwise': 3071, 'concepts': 816, 'lazy': 2465, 'pushed': 3404, 'onto': 3029, 'place': 3210, 'imagine': 2043, 'fields': 1530, 'design': 1115, 'api': 210, 'cases': 579, 'named': 2869, 'interested': 2191, 'well': 4852, 'user': 4713, 'uploaded': 4694, 'first': 1569, 'fileuploadfield': 1551, 'handled': 1860, 'nested': 2893, 'form': 1622, 'second': 3873, 'outer': 3077, 'process': 3336, 'submit': 4260, 'understand': 4639, 'difficult': 1151, 'implement': 2055, 'expect': 1422, 'informed': 2127, 'submition': 4261, 'fact': 1477, 'fileuploadexception': 1550, 'raised': 3450, 'size': 4042, 'exceeded': 1394, 'handle': 1859, 'thru': 4468, 'iformvalidator': 2031, 'instead': 2170, 'hardcoded': 1876, 'tilman': 4485, 'hausherr': 1890, 'hello': 1914, 'finally': 1559, 'downloaded': 1224, 'bulded': 525, 'ant': 191, 'new': 2902, 'project': 3360, 'build': 517, 'path': 3150, 'printed': 3320, 'thank': 4433, 'redeploy': 3528, 'knut': 2425, 'anders': 170, 'release': 3585, 'candidate': 562, 'contains': 880, 'add': 50, 'ip': 2233, 'address': 65, 'crawldatum': 945, 'ipaddress': 2234, 'resolver': 3671, 'map': 2653, 'runnable': 3796, 'tool': 4525, 'lookup': 2586, 'multithreaded': 2855, 'property': 3371, 'define': 1063, 'started': 4175, 'part': 3131, 'crawldb': 946, 'update': 4678, 'parseoutput': 3128, 'folder': 1601, 'status': 4192, 'linked': 2527, 'segment': 3893, 'updating': 4688, 'using': 4719, 'cached': 542, 'generation': 1711, 'please': 3226, 'review': 3724, 'give': 1784, 'improvement': 2075, 'suggestion': 4281, 'important': 2066, 'since': 4035, 'helps': 1919, 'real': 3489, 'whole': 4865, 'web': 4831, 'crawls': 947, 'end': 1319, 'honey': 1959, 'pot': 3270, 'fetch': 1524, 'iterations': 2260, 'vote': 4807, 'uses': 4718, 'fs': 1659, 'makequalified': 2632, 'suggested': 4279, 'james': 2277, 'rest': 3688, 'work': 4891, 'seems': 3890, 'old': 3016, 'rhel': 3739, 'toolchain': 4527, 'closely': 709, 'im': 2040, 'sujan': 4286, 'send': 3900, 'proposal': 3373, 'gsoc': 1831, 'airavata': 112, 'let': 2494, 'steps': 4200, 'email': 1304, 'hardsujan': 1878, 'gmail': 1792, 'com': 744, 'branch': 484, 'gab': 1685, 'epl': 1348, 'licence': 2508, 'people': 3174, 'rubys': 3791, 'party': 3136, 'html': 1987, 'category': 586, 'fine': 1563, 'light': 2511, 'constraints': 864, 'close': 705, 'filecontext': 1538, 'users': 4716, 'supposed': 4306, 'noticed': 2960, 'public': 3392, 'bq': 481, 'true': 4579, 'fuck': 1664, 'effectively': 1280, 'reverts': 3723, 'change': 608, 'npe': 2969, 'fixed': 1575, 'vectorizedrowbatch': 4757, 'applied': 224, 'sweet': 4319, 'prior': 3324, 'experience': 1428, 'hacking': 1849, 'top': 4529, 'store': 4212, 'needed': 2888, 'retain': 3699, 'backwards': 359, 'config': 830, 'across': 39, 'sucks': 4272, 'stick': 4203, 'around': 251, 'longer': 2579, 'qa': 3410, 'due': 1241, 'lack': 2437, 'tests': 4421, 'existing': 1418, 'shell': 3979, 'glance': 1788, 'find': 1560, 'doug': 1221, 'must': 2856, 'clicked': 692, 'wrong': 4919, 'link': 2524, 'mean': 2699, 'mark': 2666, 'resolved': 3670, 'generated': 1707, 'cxf': 980, 'working': 4896, 'ment': 2713, 'type': 4608, 'button': 534, 'theme': 4437, 'ajax': 115, 'label': 2436, 'content': 881, 'targets': 4359, 'id': 2015, 'ajaxbtn': 116, 'still': 4205, 'post': 3259, 'values': 4742, 'ff': 1526, 'lot': 2595, 'quick': 3432, 'response': 3683, 'appreciate': 229, 'ravi': 3470, 'mangalagiri': 2645, 'www': 4927, 'bluepitch': 458, 'personal': 3193, 'website': 4841, 'coming': 753, 'soon': 4097, 'beer': 390, 'next': 2913, 'time': 4487, 'diffs': 1152, 'sounds': 4104, 'solves': 4088, 'hte': 1986, 'problems': 3335, 'probably': 3332, 'mgmt': 2742, 'gui': 1841, 'functional': 1670, 'maybe': 2693, 'providing': 3388, 'closing': 712, 'oozie': 3032, 'released': 3586, 'acmurthy': 36, 'bad': 360, 'oh': 3013, 'aidan': 111, 'hell': 1913, 'diff': 1145, 'program': 3357, 'decided': 1042, 'random': 3462, 'chars': 619, 'removed': 3608, 'arun': 264, 'duplicate': 1246, 'sling': 4054, 'stronger': 4237, 'generalized': 1704, 'compiled': 795, 'tested': 4404, 'david': 1018, 'joachim': 2328, 'lgtm': 2502, 'rid': 3744, 'extra': 1459, 'logging': 2567, 'kill': 2409, 'child': 640, 'pending': 3172, 'jenkins': 2303, 'minimal': 2770, 'tutorial': 4598, 'done': 1216, 'revs': 3733, 'blas': 442, 'yes': 4973, 'updated': 4681, 'rb': 3475, 'perf': 3177, 'yet': 4975, 'run': 3795, 'experiments': 1432, 'never': 2900, 'figured': 1534, 'committing': 772, 'days': 1021, 'fix': 1574, 'interchange': 2189, 'order': 3058, 'constructor': 868, 'arguments': 246, 'clientidandtopic': 696, 'infra': 2129, 'setup': 3962, 'george': 1718, 'worked': 4894, 'jetspeed': 2307, 'documented': 1208, 'actually': 48, 'exposed': 1447, 'via': 4774, 'jmx': 2326, 'rm': 3752, 'bean': 382, 'adding': 56, 'thought': 4451, 'thomas': 4447, 'trying': 4584, 'conditionally': 824, 'hook': 1962, 'svn': 4316, 'go': 1793, 'taking': 4349, 'care': 570, 'alejandro': 124, 'npm': 2971, 'proxy': 3390, 'problem': 3333, 'nicholas': 2918, 'keep': 2395, 'development': 1135, 'scenarios': 3845, 'ide': 2016, 'references': 3542, 'lets': 2495, 'maven': 2687, 'repo': 3639, 'ability': 5, 'individual': 2117, 'entries': 1338, 'shard': 3972, 'lib': 2504, 'without': 4885, 'copy': 910, 'shared': 3975, 'library': 2507, 'answer': 189, 'question': 3428, 'invidivial': 2220, 'quite': 3435, 'bullet': 527, 'third': 4444, 'nice': 2917, 'empty': 1310, 'template': 4380, 'agree': 102, 'navis': 2883, 'thejas': 4436, 'recommend': 3516, 'inclusion': 2085, 'saying': 3836, 'violate': 4788, 'quo': 3436, 'bootstrap': 474, 'token': 4514, 'preferring': 3296, 'closer': 710, 'ones': 3026, 'choose': 645, 'specifically': 4119, 'ok': 3014, 'reporting': 3644, 'kazuki': 2393, 'index': 2104, 'main': 2623, 'java': 2286, 'hbase': 1891, 'client': 694, 'hconnectionmanager': 1896, 'initialize': 2136, 'zookeeper': 4998, 'master': 2678, 'manager': 2640, 'getzookeeperwatcher': 1776, 'masteraddresstracker': 2679, 'registerlistener': 3566, 'start': 4174, 'rootregiontracker': 3773, 'expert': 1433, 'better': 410, 'compatible': 792, 'hard': 1875, 'fixes': 1576, 'dag': 985, 'technically': 4371, 'correct': 915, 'applying': 227, 'images': 2042, 'apply': 226, 'submitted': 4262, 'changes': 611, 'required': 3661, 'resolve': 3669, 'involves': 2227, 'modified': 2817, 'https': 1994, 'issues': 2254, 'jira': 2320, 'secure': 3881, 'attachment': 310, 'valid': 4730, 'xdoc': 4930, 'possibility': 3257, 'gettoken': 1773, 'opp': 3045, 'return': 3706, 'hex': 1926, 'value': 4740, 'fails': 1487, 'encode': 1315, 'bytes': 538, 'utf': 4724, 'throwing': 4465, 'error': 1356, 'break': 488, 'accept': 20, 'keys': 2403, 'previously': 3314, 'rejected': 3578, 'running': 3797, 'fell': 1521, 'radar': 3443, 'older': 3017, 'attempt': 313, 'logged': 2564, 'ticket': 4472, 'critical': 957, 'commited': 767, 'latest': 2459, 'put': 3406, 'incubating': 2100, 'damn': 988, 'forgot': 1619, 'looked': 2583, 'within': 4884, 'windows': 4875, 'attached': 307, 'modifications': 2815, 'clientstubwriter': 699, 'wsdl': 4922, 'modification': 2814, 'solve': 4086, 'leaks': 2473, 'rick': 3743, 'applaying': 221, 'inline': 2145, 'came': 557, 'garbled': 1689, 'guess': 1838, 'supply': 4299, 'rename': 3613, 'sstables': 4156, 'anyone': 202, 'names': 2872, 'enough': 1331, 'system': 4332, 'goal': 1794, 'limiting': 2518, 'prevent': 3308, 'happening': 1872, 'assumption': 297, 'short': 3987, 'rolling': 3766, 'upgrades': 4692, 'note': 2954, 'flight': 1588, 'ahead': 107, 'plan': 3218, 'last': 2451, 'moving': 2839, 'directories': 1164, 'handling': 1864, 'dedicated': 1053, 'layout': 2464, 'messing': 2732, 'dfs': 1138, 'bruno': 507, 'bilgin': 420, 'patches': 3147, 'cooperation': 907, 'erwan': 1358, 'assigned': 290, 'umbrella': 4631, 'task': 4361, 'replicated': 3634, 'database': 995, 'figure': 1533, 'couchapp': 927, 'cheers': 637, 'chris': 648, 'junping': 2379, 'spam': 4110, 'method': 2737, 'related': 3580, 'key': 2402, 'exceed': 1393, 'threshold': 4461, 'passed': 3139, 'hack': 1848, 'intention': 2186, 'readable': 3480, 'traces': 4539, 'ml': 2800, 'read': 3479, 'nothing': 2957, 'stepan': 4198, 'sian': 4001, 'msvcr': 2848, 'dll': 1194, 'depends': 1096, 'checksum': 633, 'icu': 2014, 'zip': 4990, 'ran': 3461, 'failing': 1484, 'debian': 1036, 'rc': 3476, 'sylvain': 4323, 'dupe': 1245, 'cb': 592, 'regarding': 3555, 'cordova': 911, 'took': 4524, 'applies': 225, 'upmerge': 4696, 'koji': 2426, 'changed': 609, 'weightedfraglistbuildertest': 4848, 'prettify': 3306, 'ups': 4700, 'perfectly': 3179, 'math': 2683, 'pow': 3273, 'formula': 1632, 'sloppy': 4055, 'evil': 1383, 'klaus': 2418, 'compiler': 796, 'bugs': 516, 'jing': 2317, 'reverted': 3721, 'created': 951, 'enis': 1330, 'potential': 3271, 'hflush': 1929, 'may': 2691, 'throw': 4464, 'interruptedioexception': 2205, 'thread': 4454, 'interrupt': 2202, 'bit': 431, 'tricky': 4569, 'always': 153, 'going': 1797, 'block': 451, 'immediately': 2048, 'preserved': 3304, 'reopened': 3620, 'fixversion': 1578, 'fixing': 1577, 'osgi': 3066, 'import': 2065, 'create': 950, 'info': 2125, 'browse': 504, 'got': 1805, 'explanation': 1439, 'yuntao': 4980, 'lazydynaclass': 2466, 'misread': 2784, 'description': 1110, 'receive': 3510, 'timeout': 4488, 'null': 2975, 'transport': 4559, 'failure': 1488, 'consistent': 860, 'behaviour': 393, 'connection': 849, 'xml': 4940, 'parsing': 3130, 'pom': 3242, 'pretty': 3307, 'pull': 3397, 'wraps': 4908, 'line': 2520, 'else': 1302, 'matteo': 2686, 'suppied': 4298, 'unused': 4675, 'locals': 2557, 'places': 3212, 'backward': 358, 'compatibility': 791, 'useless': 4712, 'statement': 4185, 'gets': 1761, 'someday': 4089, 'follow': 1603, 'removes': 3609, 'take': 4346, 'christian': 649, 'tried': 4570, 'found': 1636, 'camel': 558, 'soap': 4072, 'module': 2821, 'btw': 511, 'jdk': 2298, 'spark': 4113, 'enhancement': 1328, 'verify': 4765, 'fully': 1666, 'expected': 1424, 'love': 2597, 'point': 3235, 'things': 4440, 'veto': 4772, 'us': 4706, 'generate': 1706, 'causes': 590, 'semantics': 3898, 'silently': 4016, 'optional': 3053, 'field': 1528, 'reverting': 3722, 'marking': 2671, 'deprecated': 1101, 'later': 2458, 'force': 1615, 'late': 2456, 'getting': 1772, 'busy': 533, 'week': 4843, 'afternoon': 95, 'evening': 1370, 'provides': 3387, 'facilities': 1475, 'configure': 836, 'simplehttpserver': 4025, 'production': 3352, 'httpfactory': 1993, 'introduced': 2208, 'set': 3944, 'parameters': 3124, 'request': 3656, 'pool': 3244, 'server': 3931, 'header': 1902, 'factory': 1480, 'methods': 2738, 'override': 3092, 'default': 1058, 'instantiated': 2165, 'queue': 3430, 'axis': 351, 'transportin': 4560, 'pass': 3137, 'application': 222, 'custom': 971, 'heavily': 1909, 'configured': 837, 'properly': 3369, 'tomorrow': 4521, 'feature': 1508, 'wanted': 4816, 'comments': 760, 'approach': 230, 'deepal': 1056, 'dims': 1158, 'person': 3192, 'oleg': 3018, 'thoughts': 4452, 'local': 2550, 'repository': 3650, 'head': 1899, 'offset': 3010, 'hunks': 2002, 'cleanly': 677, 'chuck': 653, 'turned': 4596, 'simpler': 4027, 'andy': 176, 'made': 2615, 'small': 4058, 'linkdb': 2526, 'improvment': 2079, 'scott': 3854, 'git': 1782, 'formatted': 1626, 'opinion': 3044, 'false': 1493, 'beat': 384, 'hints': 1935, 'vishal': 4793, 'kher': 2406, 'benjamin': 403, 'camille': 559, 'minutes': 2779, 'ago': 101, 'ben': 396, 'open': 3034, 'checking': 627, 'guys': 1846, 'solution': 4085, 'pointed': 3236, 'snapshot': 4063, 'lastzxid': 2455, 'peer': 3171, 'znode': 4994, 'recovery': 3522, 'faill': 1485, 'nodeexists': 2940, 'increment': 2099, 'cversion': 976, 'parent': 3126, 'creation': 955, 'sequential': 3917, 'znodes': 4995, 'acceptable': 21, 'clearly': 685, 'complete': 799, 'clear': 681, 'document': 1206, 'snapshots': 4068, 'recovering': 3521, 'helpful': 1917, 'correctness': 920, 'shortly': 3989, 'kind': 2414, 'forget': 1617, 'jon': 2349, 'minor': 2775, 'nitpick': 2928, 'relevant': 3592, 'testautomaticallymadename': 4393, 'testrelationaliasforbincond': 4418, 'insist': 2154, 'javadoc': 2287, 'inner': 2147, 'safety': 3810, 'simpledateformat': 4023, 'catch': 583, 'format': 1624, 'used': 4709, 'unsynchronized': 4672, 'typically': 4611, 'messages': 2728, 'happy': 1874, 'exception': 1397, 'message': 2725, 'shiro': 3985, 'karaf': 2388, 'everything': 1380, 'dev': 1130, 'environment': 1344, 'currently': 967, 'middle': 2749, 'leak': 2472, 'attach': 305, 'exactly': 1389, 'advance': 84, 'ahhh': 108, 'realise': 3490, 'triggering': 4574, 'ci': 657, 'ryan': 3806, 'xalan': 4929, 'sql': 4143, 'pat': 3144, 'carl': 573, 'testcase': 4397, 'specifying': 4123, 'full': 1665, 'svnversion': 4317, 'hudson': 1996, 'dsvnversion': 1238, 'exe': 1402, 'opt': 3047, 'subversion': 4266, 'current': 966, 'bin': 424, 'manually': 2650, 'kicked': 2407, 'missed': 2786, 'ning': 2925, 'checkstyle': 632, 'specified': 4121, 'dist': 1185, 'bd': 381, 'dc': 1025, 'aa': 0, 'andrew': 173, 'jord': 2352, 'kristian': 2429, 'tiny': 4497, 'nit': 2927, 'statementpoolingtest': 4186, 'expressed': 1451, 'assertequals': 283, 'condition': 823, 'simplename': 4026, 'equals': 1350, 'expectedname': 1425, 'fail': 1481, 'minors': 2776, 'getinode': 1737, 'snapshotdifflist': 4067, 'directorydiff': 1166, 'childrendiff': 641, 'snapshotdiff': 4064, 'little': 2536, 'renaming': 3616, 'snapshotdifffordirectory': 4065, 'snapshotdiffforfile': 4066, 'combineposterior': 749, 'final': 1557, 'posterior': 3261, 'blocksmapupdateinfo': 455, 'collectedblocks': 736, 'renamed': 3614, 'deleteposterior': 1077, 'combineanddeleteposterior': 746, 'distinguish': 1187, 'try': 4583, 'debug': 1037, 'level': 2497, 'log': 2563, 'output': 3081, 'noformat': 2943, 'bsp': 509, 'yarnbspjob': 4964, 'waitforcompletion': 4812, 'job': 2330, 'succeeded': 4268, 'seconds': 3876, 'realized': 3493, 'awesome': 349, 'reviewing': 3727, 'suresh': 4311, 'jothi': 2355, 'mailing': 2622, 'list': 2532, 'breakiterator': 490, 'covered': 937, 'integrated': 2178, 'clean': 673, 'testing': 4413, 'perhaps': 3185, 'ted': 4372, 'commands': 756, 'logic': 2568, 'tries': 4571, 'rescue': 3665, 'exceptions': 1398, 'generic': 1712, 'artificially': 263, 'evolve': 1384, 'expand': 1421, 'shrink': 3996, 'ugly': 4622, 'nits': 2930, 'sid': 4002, 'ping': 3208, 'direct': 1160, 'mail': 2621, 'item': 2256, 'attaching': 309, 'grant': 1812, 'asf': 269, 'license': 2509, 'typo': 4612, 'written': 4917, 'idempotent': 2020, 'calls': 556, 'serve': 3930, 'active': 43, 'nn': 2934, 'following': 1605, 'non': 2945, 'succeed': 4267, 'based': 365, 'share': 3974, 'impacting': 2053, 'lorand': 2590, 'proposed': 3375, 'timothy': 4494, 'include': 2081, 'couple': 933, 'dlls': 1195, 'gtoud': 1834, 'friday': 1653, 'cms': 721, 'example': 1391, 'compile': 794, 'helen': 1911, 'nigel': 2921, 'tar': 4355, 'remove': 3606, 'giri': 1780, 'building': 520, 'mina': 2763, 'checkout': 628, 'finish': 1564, 'roger': 3759, 'reviews': 3728, 'todd': 4509, 'developers': 1134, 'group': 1825, 'permission': 3188, 'couchdb': 928, 'ssl': 4152, 'guide': 1842, 'marco': 2664, 'helped': 1916, 'santosh': 3825, 'malviya': 2636, 'ofbiz': 3003, 'ever': 1376, 'reviewed': 3725, 'effort': 1283, 'convert': 900, 'minilang': 2769, 'majority': 2628, 'credit': 956, 'goes': 1796, 'progress': 3359, 'joan': 2329, 'security': 3882, 'concerns': 819, 'sandbox': 3822, 'js': 2364, 'putting': 3408, 'together': 4512, 'ts': 4585, 'thinking': 4442, 'documentation': 1207, 'plugin': 3230, 'binding': 427, 'markus': 2672, 'attachement': 308, 'wip': 4879, 'repos': 3648, 'sqoop': 4148, 'deec': 1054, 'cc': 593, 'vasanth': 4751, 'jarcec': 2282, 'leaving': 2479, 'removing': 3610, 'mergebooleanqueries': 2719, 'broken': 501, 'especially': 1360, 'viewcvs': 4777, 'rev': 3713, 'view': 4776, 'result': 3697, 'definitely': 1066, 'eventually': 1375, 'low': 2598, 'priority': 3326, 'leave': 2478, 'container': 876, 'explains': 1438, 'primarily': 3317, 'suite': 4283, 'disagrees': 1173, 'reopen': 3619, 'jean': 2299, 'marc': 2662, 'overwhelming': 3095, 'community': 779, 'feedback': 1513, 'scenario': 3844, 'present': 3303, 'copies': 909, 'schema': 3847, 'chose': 646, 'omit': 3022, 'declaration': 1046, 'planhelper': 3220, 'loadstorefinder': 2547, 'loadstorenativefinder': 2548, 'team': 4369, 'hdfs': 1898, 'depend': 1089, 'dependence': 1091, 'completely': 801, 'nathan': 2879, 'however': 1977, 'changing': 612, 'timeoutwait': 4490, 'unrealistic': 4663, 'number': 2978, 'died': 1144, 'whats': 4858, 'interesting': 2192, 'minute': 2778, 'dont': 1217, 'impact': 2052, 'strange': 4217, 'apr': 235, 'idiot': 2025, 'bryan': 508, 'converting': 903, 'derby': 1104, 'conversion': 899, 'double': 1220, 'call': 551, 'execute': 1407, 'command': 754, 'sqlexception': 4145, 'assertsqlstate': 286, 'eduardo': 1274, 'settings': 3961, 'timezone': 4493, 'meeting': 2709, 'correctly': 919, 'displayed': 1183, 'calendar': 548, 'times': 4491, 'ical': 2012, 'invitations': 2222, 'invitation': 2221, 'validity': 4738, 'thing': 4439, 'jvminfo': 2384, 'john': 2345, 'bringing': 496, 'brings': 497, 'tnx': 4507, 'perfect': 3178, 'standard': 4169, 'logo': 2573, 'testspecialcharactersinoutputpath': 4424, 'noclassdeffounderror': 2937, 'machine': 2611, 'successfully': 4270, 'considered': 858, 'defined': 1064, 'matt': 2685, 'sigh': 4007, 'thoroughly': 4449, 'rpc': 3781, 'misconfiguration': 2782, 'trouble': 4577, 'reindented': 3573, 'parts': 3135, 'twice': 4603, 'indentation': 2103, 'surrounding': 4312, 'editor': 1272, 'tab': 4336, 'width': 4867, 'eight': 1288, 'four': 1638, 'willem': 4871, 'checked': 625, 'alpha': 143, 'daryn': 992, 'chiming': 643, 'rationale': 3469, 'setquota': 3954, 'vs': 4809, 'setspacequota': 3957, 'naming': 2874, 'former': 1630, 'move': 2835, 'admin': 74, 'excellent': 1395, 'xsl': 4953, 'normalize': 2948, 'space': 4108, 'lots': 2596, 'asking': 276, 'jeff': 2300, 'lohit': 2577, 'tickets': 4473, 'session': 3942, 'lars': 2450, 'priyo': 3330, 'henri': 1922, 'common': 774, 'validator': 4737, 'jboss': 2293, 'env': 1343, 'home': 1956, 'directory': 1165, 'delete': 1075, 'latter': 2460, 'binary': 425, 'harish': 1882, 'lufeng': 2606, 'welcome': 4851, 'nutch': 2981, 'qpid': 3416, 'requestwrapper': 3659, 'responsewrapper': 3686, 'annotion': 182, 'schemas': 3848, 'jaxwsservicebuildertest': 2290, 'testdoclit': 4402, 'cool': 906, 'omkar': 3024, 'resolution': 3668, 'ensure': 1332, 'prefix': 3297, 'mechanism': 2707, 'reset': 3666, 'wow': 4906, 'paste': 3143, 'trivial': 4576, 'modificationstatement': 2816, 'cl': 661, 'argument': 245, 'executewithcondition': 1410, 'sp': 4107, 'cas': 577, 'believe': 394, 'refuse': 3553, 'serial': 3920, 'blockfor': 453, 'unsupportedoperationexception': 4669, 'wait': 4810, 'amount': 162, 'writeresponsehandler': 4914, 'ctor': 962, 'signal': 4009, 'away': 348, 'normal': 2947, 'writes': 4915, 'ultimately': 4628, 'meantime': 2703, 'sense': 3905, 'thus': 4469, 'preceding': 3285, 'validateforwrite': 4734, 'calling': 555, 'complains': 798, 'validateforconditionalwrite': 4733, 'least': 2477, 'replication': 3635, 'strategy': 4218, 'multi': 2850, 'specific': 4118, 'cls': 713, 'reasonable': 3497, 'hitesh': 1940, 'superior': 4296, 'promote': 3362, 'everywhere': 1381, 'hands': 1865, 'lab': 2435, 'jspwiki': 2370, 'qwiki': 3440, 'apps': 234, 'devcon': 1132, 'enterprise': 1333, 'company': 784, 'purchase': 3399, 'contract': 890, 'product': 3351, 'contact': 873, 'jim': 2315, 'mason': 2675, 'page': 3111, 'atlassian': 301, 'issuetabpanels': 2255, 'tabpanel': 4339, 'yahoo': 4961, 'tired': 4499, 'best': 407, 'protection': 3378, 'hmm': 1947, 'kim': 2413, 'hold': 1950, 'revised': 3729, 'dateconverter': 1013, 'conform': 842, 'isalphabetic': 2242, 'isdigit': 2244, 'reversed': 3716, 'testdateutil': 4401, 'adds': 69, 'flag': 1580, 'johannes': 2344, 'kay': 2392, 'plz': 3233, 'ajisakaa': 117, 'flume': 1593, 'mention': 2714, 'stored': 4213, 'plans': 3222, 'included': 2082, 'netutils': 2895, 'getdefaultsocketfactory': 1728, 'conf': 827, 'ipc': 2237, 'gettimeout': 1771, 'defaultpolicy': 1059, 'getproxy': 1755, 'lines': 2523, 'newleader': 2908, 'quorum': 3437, 'packet': 3108, 'sent': 3907, 'leaderlastzxid': 2470, 'leader': 2469, 'startforwarding': 4178, 'updates': 4687, 'download': 1223, 'archives': 243, 'install': 2156, 'amareshwari': 155, 'alok': 139, 'agnihotri': 100, 'valuable': 4739, 'special': 4117, 'rishi': 3749, 'solanki': 4073, 'pranay': 3280, 'pandey': 3118, 'brajesh': 483, 'patel': 3149, 'others': 3070, 'helping': 1918, 'ashish': 270, 'vijaywargiya': 4779, 'rohini': 3760, 'droids': 1232, 'spring': 4142, 'revisions': 3731, 'sandy': 3823, 'vasily': 4752, 'bti': 510, 'struts': 4242, 'enhancements': 1329, 'font': 1608, 'cursory': 970, 'cleanup': 679, 'tightening': 4479, 'target': 4357, 'servername': 3933, 'op': 3033, 'tohtml': 4513, 'configuration': 834, 'docbook': 1201, 'section': 3879, 'generates': 1709, 'runs': 3798, 'book': 466, 'xincludes': 4938, 'includes': 2083, 'edit': 1269, 'preface': 3291, 'appendix': 220, 'talks': 4352, 'configuarion': 832, 'compression': 811, 'shit': 3986, 'dependency': 1093, 'entry': 1339, 'enable': 1311, 'option': 3052, 'show': 3992, 'attributes': 320, 'feb': 1511, 'rebased': 3504, 'eclipse': 1267, 'commandline': 755, 'tell': 4374, 'eyeballing': 1467, 'versions': 4771, 'screwed': 3858, 'mode': 2808, 'elevate': 1295, 'exist': 1417, 'launch': 2461, 'console': 861, 'produce': 3346, 'less': 2492, 'months': 2831, 'npath': 2968, 'trademark': 4545, 'simon': 4021, 'cgi': 603, 'delay': 1070, 'responding': 3681, 'treemap': 4564, 'returning': 3708, 'deterministic': 1129, 'ordering': 3059, 'beneficial': 399, 'redundancy': 3533, 'equality': 1349, 'imo': 2051, 'makes': 2633, 'easier': 1259, 'addition': 59, 'missing': 2787, 'coverage': 936, 'sooner': 4098, 'moved': 2837, 'paulex': 3156, 'regards': 3557, 'backporting': 357, 'regression': 3570, 'harmony': 1884, 'noted': 2955, 'driver': 1230, 'caches': 545, 'lob': 2549, 'lengths': 2490, 'clobs': 702, 'blobs': 450, 'planning': 3221, 'storestreamclob': 4214, 'embedded': 1306, 'juddi': 2372, 'eric': 1353, 'patrick': 3152, 'comparator': 786, 'jaql': 2280, 'preferably': 3293, 'comparators': 787, 'sort': 4101, 'serialized': 3925, 'writablecomparables': 4911, 'inconsistent': 2088, 'reduce': 3530, 'transitivity': 4556, 'requirement': 3662, 'enforce': 1323, 'types': 4609, 'knows': 2424, 'reuse': 3711, 'interface': 2193, 'comparisons': 790, 'writablecomparable': 4910, 'column': 742, 'families': 1494, 'except': 1396, 'table': 4337, 'metadata': 2735, 'single': 4036, 'entire': 1334, 'filtering': 1555, 'performed': 3182, 'access': 23, 'control': 894, 'rep': 3626, 'policy': 3240, 'nodes': 2942, 'far': 1495, 'incorporate': 2090, 'tree': 4563, 'exists': 1419, 'nodedelegate': 2939, 'shot': 3990, 'port': 3247, 'db': 1022, 'docs': 1205, 'gz': 1847, 'myrna': 2864, 'provided': 3385, 'cocoon': 724, 'servlet': 3940, 'service': 3936, 'impl': 2054, 'components': 808, 'edwin': 1276, 'ren': 3612, 'performance': 3181, 'benchmark': 397, 'readme': 3486, 'followed': 1604, 'step': 4197, 'reached': 3478, 'teragen': 4385, 'face': 1470, 'htmlgen': 1988, 'cluster': 715, 'vms': 4800, 'launched': 2462, 'generatedata': 1708, 'py': 3409, 'finished': 1565, 'hours': 1974, 'uservisits': 4717, 'rankings': 3465, 'txt': 4607, 'smaller': 4059, 'consumed': 869, 'saw': 3832, 'information': 2126, 'ubuntu': 4617, 'met': 2733, 'kinds': 2416, 'night': 2922, 'additionally': 61, 'sh': 3966, 'seemed': 3889, 'flawlessly': 1586, 'hit': 1937, 'accident': 27, 'detect': 1126, 'finding': 1562, 'similarly': 4020, 'operations': 3043, 'taken': 4347, 'area': 244, 'necessarily': 2885, 'jump': 2376, 'emf': 1307, 'xsdtypedefinition': 4952, 'xsdcomponent': 4950, 'xsdelementdeclaration': 4951, 'eclassifier': 1266, 'element': 1293, 'contained': 875, 'representation': 3651, 'sdo': 3863, 'scope': 3853, 'referenced': 3541, 'earlier': 1256, 'xsd': 4949, 'retrieve': 3702, 'necessary': 2886, 'definition': 1067, 'spent': 4134, 'dig': 1153, 'discuss': 1176, 'assuming': 296, 'produced': 3347, 'require': 3660, 'directly': 1163, 'merged': 2720, 'batch': 374, 'branches': 485, 'god': 1795, 'realize': 3492, 'context': 883, 'pax': 3157, 'bundle': 530, 'servicemix': 3937, 'roman': 3767, 'felix': 1520, 'features': 1509, 'cfg': 600, 'replace': 3628, 'installed': 2159, 'richard': 3742, 'guillaume': 1843, 'despite': 1120, 'specification': 4120, 'useful': 4710, 'inonly': 2148, 'mep': 2716, 'terminate': 4388, 'propagated': 3367, 'gianfranco': 1777, 'sync': 4325, 'propagate': 3366, 'restart': 3689, 'implemeted': 2060, 'andrea': 171, 'moin': 2824, 'copied': 908, 'confluence': 841, 'appropriate': 231, 'retire': 3700, 'weeks': 4845, 'pages': 3113, 'aside': 273, 'unit': 4649, 'splitting': 4138, 'sub': 4252, 'stuck': 4243, 'purging': 3400, 'cache': 541, 'asset': 287, 'jacques': 2271, 'ankit': 178, 'reason': 3496, 'layer': 2463, 'recursivly': 3526, 'friends': 1656, 'house': 1975, 'internet': 2200, 'gps': 1808, 'slow': 4056, 'monday': 2828, 'morning': 2833, 'weekend': 4844, 'sascha': 3826, 'discussions': 1178, 'ipf': 2238, 'datastorage': 1009, 'linkallblocks': 2525, 'todir': 4510, 'mkdir': 2798, 'avoid': 344, 'spelling': 4132, 'formatting': 1627, 'commenting': 759, 'merging': 2722, 'introducing': 2210, 'finalized': 1558, 'dir': 1159, 'minidfscluster': 2768, 'plain': 3215, 'string': 4229, 'rather': 3468, 'static': 4188, 'getfinalizeddirectoryname': 1733, 'samuel': 3821, 'quickstart': 3434, 'demonstrate': 1084, 'accessing': 26, 'writtent': 4918, 'clearing': 684, 'private': 3327, 'jvms': 2385, 'setaccessible': 3945, 'modifying': 2819, 'reflection': 3548, 'sun': 4293, 'ibm': 2011, 'plenty': 3227, 'hey': 1927, 'gave': 1695, 'projects': 3361, 'nd': 2884, 'rss': 3786, 'rome': 3768, 'jimmy': 2316, 'vinod': 4785, 'answered': 190, 'early': 1257, 'notification': 2963, 'christiano': 650, 'seams': 3864, 'root': 3771, 'state': 4182, 'blueprint': 459, 'bundles': 531, 'ehcache': 1286, 'looking': 2584, 'importrange': 2068, 'net': 2894, 'sf': 3965, 'unable': 4632, 'says': 3837, 'happen': 1870, 'simply': 4033, 'takes': 4348, 'mvn': 2860, 'grep': 1821, 'locally': 2555, 'andreas': 172, 'rob': 3754, 'approve': 233, 'mayberefreshblocking': 2695, 'blocks': 454, 'refreshlock': 3552, 'renames': 3615, 'reopenlock': 3622, 'shares': 3976, 'refresh': 3551, 'mayberefresh': 2694, 'switches': 4321, 'reentrantlock': 3534, 'semaphore': 3899, 'allows': 135, 'protectively': 3379, 'obtain': 2993, 'domayberefresh': 1214, 'general': 1702, 'equivalent': 1351, 'protects': 3380, 'accidental': 28, 'indicates': 2115, 'inetorgperson': 2119, 'ou': 3074, 'shows': 3994, 'cn': 722, 'institutesinetorgperson': 2172, 'portion': 3251, 'dump': 1244, 'er': 1352, 'sometime': 4094, 'tasks': 4363, 'logger': 2565, 'abstract': 12, 'base': 364, 'supporting': 4303, 'frameworks': 1644, 'cares': 572, 'reported': 3642, 'crash': 944, 'oracle': 3055, 'worse': 4903, 'results': 3698, 'bugdatabase': 514, 'andrey': 174, 'bcprov': 380, 'deploy': 1097, 'confusingly': 845, 'replaced': 3629, 'gone': 1799, 'oom': 3030, 'occurs': 2997, 'processing': 3341, 'axiom': 350, 'correction': 917, 'permissions': 3189, 'vint': 4787, 'reverseddecimal': 3717, 'regardless': 3556, 'whether': 4861, 'yarnconfiguration': 4965, 'nm': 2932, 'dirs': 1169, 'echo': 1265, 'lance': 2440, 'luni': 2609, 'viewvc': 4778, 'ids': 2028, 'initial': 2134, 'greid': 1820, 'configs': 831, 'visad': 4792, 'unimplementedexception': 4647, 'lost': 2594, 'hour': 1973, 'headers': 1903, 'alexei': 129, 'basic': 370, 'pointing': 3238, 'cancel': 560, 'baxter': 375, 'canceling': 561, 'submission': 4258, 'stupid': 4248, 'oops': 3031, 'hivemodule': 1944, 'snippet': 4069, 'previous': 3313, 'confusion': 846, 'accidentally': 29, 'deleted': 1076, 'disable': 1170, 'eventfd': 1372, 'compilation': 793, 'script': 3860, 'combined': 747, 'drivers': 1231, 'deal': 1032, 'kihwal': 2408, 'average': 341, 'row': 3779, 'sstable': 4153, 'gc': 1699, 'grace': 1810, 'period': 3186, 'curent': 963, 'samples': 3819, 'tomcat': 4519, 'coded': 729, 'passe': 3138, 'testsamplefilter': 4422, 'testfilterhttpheaders': 4406, 'testbasicauthentication': 4394, 'execution': 1412, 'continu': 885, 'nicolas': 2920, 'forward': 1635, 'route': 3776, 'thiwanka': 4446, 'referring': 3546, 'checks': 631, 'character': 615, 'produces': 3349, 'events': 1374, 'xmllocator': 4944, 'advanced': 85, 'void': 4801, 'startelement': 4176, 'qname': 3415, 'xmlattributes': 4941, 'augmentations': 326, 'augs': 327, 'throws': 4467, 'xniexception': 4948, 'locator': 2559, 'getcharacteroffset': 1724, 'reportprogressevents': 3645, 'nextcharoffset': 2914, 'abstractdomparser': 14, 'super': 4294, 'ishara': 2245, 'differences': 1147, 'generally': 1705, 'including': 2084, 'codebase': 726, 'entitymode': 1337, 'filed': 1539, 'posterminalinterntx': 3264, 'entity': 1336, 'pos': 3254, 'paid': 3116, 'reasoncomment': 3498, 'enumeration': 1342, 'demoposdata': 1087, 'implemented': 2058, 'contribution': 892, 'webposevents': 4840, 'combo': 750, 'box': 479, 'posterminalid': 3263, 'art': 256, 'testblocktokenwithdfs': 4395, 'questions': 3429, 'happens': 1873, 'instances': 2163, 'consumers': 871, 'clientid': 695, 'jvm': 2383, 'metrics': 2739, 'ditto': 1190, 'producers': 3348, 'consumertopicstats': 872, 'topic': 4530, 'alltopics': 136, 'stats': 4191, 'zookeeperconsumerconnector': 4999, 'validate': 4731, 'groupid': 1827, 'length': 2489, 'abstractfetcherthread': 16, 'brokerinfo': 503, 'broker': 502, 'requests': 3658, 'course': 935, 'yonik': 4978, 'upper': 4699, 'lower': 2599, 'lead': 2468, 'feel': 1516, 'slightly': 4053, 'explain': 1436, 'legacy': 2488, 'nobody': 2936, 'behavior': 391, 'specify': 4122, 'easy': 1262, 'arbitrary': 241, 'readers': 3482, 'handles': 1863, 'myfaces': 2863, 'optimization': 3048, 'tim': 4486, 'objection': 2988, 'amit': 161, 'vivek': 4797, 'cassandra': 580, 'iterators': 2262, 'cloneable': 704, 'sorting': 4102, 'multiple': 2853, 'selecting': 3896, 'activity': 46, 'assignee': 291, 'erik': 1354, 'author': 331, 'drop': 1233, 'split': 4136, 'tracker': 4542, 'underlying': 4637, 'stream': 4219, 'streamed': 4220, 'parallel': 3119, 'compaction': 782, 'clitest': 700, 'defstest': 1068, 'loads': 2546, 'enabled': 1312, 'although': 150, 'causing': 591, 'come': 751, 'mix': 2795, 'iteration': 2259, 'merge': 2718, 'proposing': 3376, 'poor': 3245, 'choice': 644, 'words': 4890, 'gives': 1786, 'executor': 1415, 'cut': 975, 'given': 1785, 'instanceof': 2162, 'business': 532, 'agreed': 103, 'getcolumncount': 1726, 'icountablecolumniterator': 2013, 'concurrent': 821, 'likely': 2514, 'yaml': 4962, 'race': 3441, 'write': 4912, 'avoids': 345, 'forgetting': 1618, 'consider': 855, 'feels': 1518, 'weird': 4850, 'implicitly': 2062, 'moment': 2825, 'bikas': 418, 'operation': 3042, 'unpackentries': 4661, 'unix': 4651, 'untars': 4673, 'meant': 2702, 'continuing': 887, 'along': 141, 'mine': 2766, 'nikola': 2924, 'cause': 588, 'logs': 2574, 'deciding': 1043, 'replacement': 3630, 'reconciler': 3518, 'keyspace': 2404, 'hairong': 1852, 'keyword': 2405, 'ari': 247, 'revamping': 3714, 'ui': 4623, 'colin': 732, 'eg': 1285, 'verified': 4764, 'hsync': 1984, 'upgraded': 4691, 'leases': 2476, 'recovered': 3520, 'cycles': 982, 'paging': 3115, 'eyes': 1468, 'straight': 4216, 'mostly': 2834, 'subtleties': 4265, 'mess': 2724, 'upload': 4693, 'bianco': 413, 'vectorhighlightmapper': 4756, 'cs': 959, 'divergence': 1192, 'fvh': 1681, 'life': 2510, 'ports': 3253, 'digy': 1155, 'navigate': 2881, 'nexus': 2915, 'splash': 4135, 'screen': 3856, 'rebuild': 3505, 'stackmaptable': 4162, 'scratch': 3855, 'bcel': 379, 'ways': 4828, 'increase': 2096, 'high': 1932, 'blocker': 452, 'overall': 3086, 'crazy': 948, 'benefits': 402, 'logical': 2569, 'striping': 4234, 'boundary': 478, 'splits': 4137, 'regions': 3563, 'stripes': 4233, 'per': 3175, 'region': 3561, 'every': 1377, 'benefit': 401, 'difference': 1146, 'namenode': 2871, 'obviously': 2995, 'factor': 1478, 'increasing': 2097, 'addblock': 51, 'scale': 3840, 'unlike': 4655, 'hfile': 1928, 'none': 2946, 'toy': 4537, 'seeing': 3885, 'careful': 571, 'major': 2627, 'perform': 3180, 'involve': 2225, 'mc': 2698, 'save': 3829, 'complexity': 804, 'furthermore': 1675, 'tiered': 4477, 'participating': 3133, 'thrashing': 4453, 'compactions': 783, 'handful': 1857, 'reasons': 3499, 'pain': 3117, 'points': 3239, 'seem': 3888, 'tie': 4474, 'moves': 2838, 'worry': 4902, 'aggressive': 98, 'actual': 47, 'churn': 656, 'unnecessary': 4658, 'iops': 2231, 'outside': 3084, 'algorithm': 132, 'compact': 780, 'mid': 2748, 'aggressively': 99, 'locality': 2552, 'intelligent': 2180, 'picking': 3200, 'secondary': 3874, 'node': 2938, 'servers': 3935, 'datanode': 1005, 'dwr': 1250, 'validation': 4736, 'action': 40, 'lesson': 2493, 'disturbing': 1189, 'deadlocks': 1031, 'dslkit': 1237, 'gpl': 1807, 'jason': 2285, 'odd': 3000, 'timetostring': 4492, 'calinstance': 550, 'round': 3775, 'date': 1012, 'gettime': 1770, 'secondly': 3875, 'cleaned': 674, 'bunch': 529, 'statements': 4187, 'tighter': 4480, 'sushanth': 4313, 'reply': 3638, 'visit': 4795, 'minimum': 2772, 'latency': 2457, 'summary': 4290, 'speedup': 4126, 'addinputpaths': 58, 'addresses': 67, 'ql': 3414, 'exec': 1403, 'execdriver': 1404, 'io': 2228, 'combinehiveinputformat': 748, 'yongqiang': 4977, 'attila': 317, 'global': 1790, 'synced': 4326, 'setting': 3960, 'datastax': 1008, 'packages': 3104, 'digging': 1154, 'deeper': 1057, 'cherry': 639, 'pick': 3199, 'blair': 440, 'commite': 766, 'pierre': 3201, 'addressing': 68, 'fellas': 1522, 'retry': 3705, 'hadoopqa': 1851, 'sporadic': 4140, 'nick': 2919, 'starters': 4177, 'attributeimplitem': 319, 'reference': 3540, 'overhead': 3089, 'hregion': 1981, 'gotten': 1806, 'talking': 4351, 'creating': 954, 'snk': 4070, 'strongly': 4238, 'assemblies': 280, 'signing': 4013, 'assembly': 281, 'scripts': 3861, 'strong': 4236, 'tag': 4342, 'whenever': 4859, 'reassign': 3500, 'niraj': 2926, 'fa': 1469, 'bb': 376, 'st': 4158, 'deemed': 1055, 'upcoming': 4677, 'getlogintimeout': 1742, 'setlogintimeout': 3951, 'basicdatasource': 372, 'notifying': 2965, 'programmer': 3358, 'otoh': 3073, 'migrating': 2752, 'app': 214, 'decide': 1041, 'consistency': 859, 'dennis': 1088, 'byrne': 535, 'lists': 2535, 'jmeter': 2324, 'tlp': 4504, 'variable': 4747, 'unset': 4666, 'michael': 2744, 'hung': 2000, 'testhregion': 4411, 'unorthodox': 4659, 'intentionally': 2187, 'inherit': 2131, 'hbaseclustertestcase': 1892, 'mhbc': 2743, 'hopefully': 1964, 'anomaly': 186, 'responsible': 3687, 'hang': 1866, 'shutting': 4000, 'filesystem': 1549, 'announcement': 183, 'michele': 2746, 'rakesh': 3453, 'ill': 2037, 'upped': 4698, 'httpd': 1992, 'mins': 2777, 'outofmemoryerrors': 3080, 'talat': 4350, 'tom': 4518, 'linereader': 2521, 'ioexception': 2230, 'asankha': 266, 'deferring': 1062, 'evictions': 1382, 'background': 354, 'tenured': 4384, 'collected': 735, 'radically': 3444, 'originally': 3064, 'lru': 2600, 'collections': 738, 'disabled': 1171, 'unfortunately': 4645, 'micro': 2747, 'optimizations': 3049, 'falling': 1492, 'wayside': 4829, 'sometimes': 4095, 'describe': 1108, 'indeed': 2102, 'harder': 1877, 'url': 4703, 'supported': 4302, 'anymore': 200, 'artem': 259, 'mixing': 2797, 'fuzzy': 1680, 'ness': 2892, 'analyzingsuggester': 168, 'det': 1122, 'convertautomaton': 901, 'getfullprefixpaths': 1734, 'inevitable': 2120, 'automaton': 337, 'exactfirst': 1388, 'match': 2680, 'lev': 2496, 'agent': 97, 'characters': 616, 'jay': 2291, 'train': 4546, 'model': 2809, 'suggest': 4278, 'serialize': 3924, 'runtime': 3799, 'errors': 1357, 'junit': 2378, 'caused': 589, 'lang': 2443, 'nullpointerexception': 2976, 'opennlp': 3038, 'genericmodelwriter': 1715, 'persist': 3190, 'tools': 4528, 'util': 4725, 'modelutil': 2811, 'writemodel': 4913, 'genericmodelserializer': 1714, 'basemodel': 368, 'cmdline': 719, 'cmdlineutil': 720, 'tokennamefindertrainertool': 4517, 'wfm': 4856, 'assumed': 294, 'self': 3897, 'enforcing': 1324, 'macro': 2614, 'steve': 4201, 'committers': 771, 'qualifies': 3421, 'warrants': 4824, 'backported': 356, 'reminds': 3603, 'infrastructure': 2130, 'carrot': 576, 'stand': 4167, 'alone': 140, 'living': 2538, 'versioned': 4769, 'artefact': 258, 'rarely': 3467, 'recompiling': 3517, 'martin': 2674, 'wrote': 4920, 'responses': 3685, 'pm': 3234, 'concurrency': 820, 'seek': 3886, 'implementations': 2057, 'checksums': 635, 'streams': 4221, 'int': 2175, 'assumes': 295, 'particular': 3134, 'crc': 949, 'wish': 4882, 'allow': 134, 'aspect': 278, 'checksummers': 634, 'skip': 4044, 'chain': 605, 'catalogfactorybase': 582, 'leading': 2471, 'clarifications': 664, 'mr': 2840, 'jt': 2371, 'kills': 2411, 'tt': 4588, 'completed': 800, 'maps': 2661, 'jobs': 2338, 'marked': 2669, 'killed': 2410, 'towards': 4536, 'fault': 1500, 'hope': 1963, 'shai': 3967, 'puts': 3407, 'messagedigest': 2726, 'mathias': 2684, 'unclear': 4635, 'wondering': 4888, 'hoping': 1966, 'meaningful': 2700, 'warnings': 4823, 'ignored': 2033, 'ashutosh': 271, 'gunther': 1844, 'operability': 3041, 'jie': 2313, 'opened': 3035, 'heavy': 1910, 'reporter': 3643, 'anuj': 195, 'gupta': 1845, 'resuabletoken': 3695, 'proto': 3381, 'deveraj': 1136, 'conventions': 897, 'xiang': 4935, 'draft': 1226, 'hregionprotocol': 1982, 'corresponding': 922, 'pb': 3165, 'mapping': 2657, 'agreement': 104, 'pre': 3284, 'interpret': 2201, 'indexinputs': 2109, 'codeline': 731, 'intended': 2183, 'testfileconcurrentreader': 4405, 'builds': 523, 'ulimit': 4626, 'ram': 3454, 'kathey': 2390, 'passes': 3140, 'releasenotereader': 3588, 'overwhelm': 3094, 'display': 1182, 'exposing': 1448, 'event': 1371, 'handler': 1861, 'bf': 411, 'dd': 1026, 'tinny': 4496, 'mapreduceplancompiler': 2660, 'pigcontext': 3204, 'instantiatefuncfromspec': 2166, 'materializedresult': 2682, 'outfilespec': 3078, 'getfuncspec': 1735, 'reversibleloadstorefunc': 3719, 'pomapreduce': 3243, 'logicalkey': 2570, 'getscope': 1762, 'nodeidgenerator': 2941, 'getnextnodeid': 1747, 'execengine': 1405, 'getphysicaloptable': 1752, 'addinputfile': 57, 'filespec': 1548, 'mapparallelism': 2654, 'max': 2688, 'parallelismrequest': 3120, 'getoperatorkey': 1750, 'unless': 4654, 'func': 1668, 'reversible': 3718, 'failures': 1489, 'activemq': 44, 'stompframe': 4206, 'similar': 4018, 'datainputstream': 1003, 'readfully': 3483, 'pulled': 3398, 'wire': 4880, 'colm': 740, 'incorrect': 2093, 'disappointed': 1175, 'singleton': 4037, 'rights': 3747, 'supplying': 4300, 'primary': 3318, 'gain': 1687, 'detailed': 1125, 'harsh': 1885, 'mitch': 2794, 'report': 3641, 'dean': 1034, 'means': 2701, 'victor': 4775, 'alot': 142, 'centos': 596, 'bob': 463, 'ivan': 2263, 'xercesc': 4933, 'owen': 3099, 'workarounds': 4893, 'trick': 4567, 'jres': 2363, 'whereby': 4860, 'identifies': 2023, 'jre': 2362, 'extensible': 1456, 'targeted': 4358, 'cross': 958, 'auth': 328, 'ubjson': 4616, 'ubf': 4615, 'complicated': 806, 'interest': 2190, 'writing': 4916, 'parser': 3129, 'switch': 4320, 'hood': 1961, 'getrollbackonly': 1760, 'transaction': 4548, 'illegalstateexception': 2038, 'progess': 3356, 'sound': 4103, 'rustam': 3801, 'imap': 2045, 'thx': 4470, 'edward': 1275, 'apt': 238, 'unwanted': 4676, 'flumotion': 1594, 'amd': 159, 'deb': 1035, 'foomatic': 1612, 'filters': 1556, 'temporary': 4381, 'connectivity': 851, 'clears': 687, 'aleksey': 126, 'asap': 267, 'delayed': 1071, 'belong': 395, 'ilya': 2039, 'ken': 2398, 'demonstrating': 1086, 'rampart': 3459, 'reads': 3487, 'boolean': 470, 'boost': 472, 'seperate': 3914, 'blank': 441, 'treated': 4562, 'query': 3423, 'assign': 289, 'params': 3125, 'getparams': 1751, 'dmp': 1196, 'temp': 4378, 'three': 4460, 'elliott': 1301, 'backport': 355, 'breaking': 489, 'dih': 1156, 'standalone': 4168, 'webapp': 4832, 'inside': 2153, 'aol': 207, 'installations': 2158, 'procure': 3345, 'hardware': 1879, 'capacity': 567, 'failover': 1486, 'firewall': 1568, 'holes': 1953, 'normally': 2949, 'mysql': 2865, 'solrj': 4079, 'bring': 495, 'sharded': 3973, 'rebuilds': 3507, 'touch': 4534, 'indexing': 2107, 'speed': 4125, 'keeping': 2396, 'millions': 2759, 'documents': 1209, 'beats': 385, 'handily': 1858, 'threaded': 4456, 'central': 597, 'manage': 2638, 'intend': 2182, 'manages': 2642, 'fast': 1496, 'improve': 2073, 'confused': 843, 'anoop': 187, 'pluto': 3232, 'taglib': 4344, 'el': 1290, 'drill': 1229, 'porting': 3250, 'derbyall': 1105, 'foo': 1611, 'prefer': 3292, 'bar': 363, 'quickly': 3433, 'suffixes': 4277, 'valueparser': 4741, 'somehow': 4090, 'catching': 584, 'reading': 3485, 'ints': 2213, 'fastest': 1498, 'stays': 4194, 'addtovector': 71, 'converts': 904, 'passing': 3141, 'wonder': 4887, 'deserves': 1114, 'attention': 316, 'benchmarks': 398, 'brilliant': 494, 'jlowe': 2323, 'rules': 3794, 'optimized': 3050, 'caching': 546, 'kernelnodestore': 2399, 'xmx': 4947, 'ms': 2844, 'luca': 2602, 'qualified': 3419, 'pi': 3198, 'tricks': 4568, 'besides': 406, 'linux': 2531, 'pig': 3203, 'xu': 4954, 'logicallayer': 2571, 'queryparser': 3425, 'expr': 1449, 'debugdll': 1038, 'releasedll': 3587, 'configurations': 835, 'linker': 2528, 'unknown': 4653, 'folks': 1602, 'customized': 974, 'transitive': 4555, 'sershe': 3929, 'facebook': 1471, 'ah': 106, 'misunderstood': 2792, 'functionality': 1671, 'tablename': 4338, 'locking': 2562, 'covering': 939, 'william': 4872, 'xmlvalidator': 4946, 'hpp': 1980, 'jihoon': 2314, 'sergio': 3919, 'paul': 3155, 'uri': 4701, 'os': 3065, 'subbing': 4253, 'relative': 3583, 'paths': 3151, 'constructed': 866, 'contain': 874, 'scheme': 3849, 'apart': 209, 'syntax': 4331, 'req': 3655, 'addfile': 54, 'servletfileupload': 3941, 'ismultipartcontent': 2250, 'resolves': 3672, 'addheader': 55, 'multipart': 2852, 'setmethod': 3952, 'sanjay': 3824, 'narrowed': 2878, 'chrome': 651, 'zealous': 4983, 'separate': 3910, 'computers': 814, 'wicket': 4866, 'buggy': 515, 'browser': 505, 'bogus': 464, 'essentially': 1363, 'sstablesplit': 4157, 'offline': 3008, 'plaintext': 3216, 'keith': 2397, 'board': 462, 'day': 1020, 'joe': 2342, 'sample': 3818, 'investigation': 2218, 'dots': 1219, 'apparently': 215, 'xmlconfiguration': 4943, 'claus': 672, 'alexander': 128, 'realization': 3491, 'devaraj': 1131, 'datatypescollation': 1011, 'arup': 265, 'truth': 4582, 'sheer': 3978, 'cfstore': 602, 'annoys': 185, 'prove': 3383, 'messed': 2730, 'encapsulation': 1314, 'datatracker': 1010, 'dealing': 1033, 'memtables': 2712, 'possible': 3258, 'proof': 3365, 'claiming': 662, 'beautiful': 386, 'improves': 2077, 'subjectivity': 4257, 'bits': 432, 'querying': 3424, 'reluctant': 3597, 'altogether': 151, 'atomicreference': 303, 'seriously': 3928, 'humble': 1999, 'moveanddeletelocalfiles': 2836, 'descriptive': 1111, 'asyncdeletepathoneachvolume': 299, 'volumes': 4805, 'cleanupqueue': 680, 'transient': 4554, 'modify': 2818, 'performs': 3184, 'internally': 2197, 'detail': 1124, 'saved': 3830, 'english': 1327, 'express': 1450, 'ideas': 2019, 'rigth': 3748, 'native': 2880, 'speaking': 4115, 'amiss': 160, 'namit': 2875, 'closed': 708, 'certainly': 599, 'van': 4745, 'geertruy': 1700, 'neil': 2891, 'advice': 87, 'scanner': 3842, 'sendchars': 3901, 'buffer': 512, 'flushed': 1595, 'maximum': 2690, 'chosen': 647, 'notion': 2966, 'arbitrarily': 240, 'xmlbuffer': 4942, 'overboard': 3087, 'registered': 3565, 'handlers': 1862, 'observe': 2992, 'infelicitously': 2123, 'insurecapacity': 2174, 'large': 2448, 'invocation': 2223, 'entirely': 1335, 'unsurprising': 4670, 'setter': 3958, 'setinputbuffersize': 3949, 'beta': 409, 'jian': 2311, 'claudio': 671, 'tasso': 4366, 'mahout': 2619, 'yep': 4972, 'appears': 218, 'determines': 1128, 'messenger': 2731, 'component': 807, 'headed': 1901, 'codehaus': 730, 'dead': 1028, 'charm': 618, 'sergey': 3918, 'extends': 1455, 'updaterequestprocessor': 4683, 'processadd': 3337, 'called': 553, 'verbose': 4761, 'replicate': 3633, 'commits': 768, 'processcommit': 3338, 'updaterequestprocessortest': 4685, 'dataimport': 1000, 'addupdatecommand': 72, 'commitupdatecommand': 773, 'deleteupdatecommand': 1078, 'mergeindexescommand': 2721, 'rollbackupdatecommand': 3763, 'processor': 3343, 'slf': 4050, 'loggerfactory': 2566, 'interaction': 2188, 'getlogger': 1741, 'cmd': 718, 'processdelete': 3340, 'processmergeindexes': 3342, 'processrollback': 3344, 'updaterequestprocessortestfactory': 4686, 'solrqueryrequest': 4080, 'solrqueryresponse': 4081, 'updaterequestprocessorfactory': 4684, 'updaterequest': 4682, 'getinstance': 1738, 'rsp': 3785, 'nov': 2967, 'solrcore': 4077, 'firstsearcher': 1571, 'rocks': 3757, 'rows': 3780, 'hits': 1941, 'qtime': 3418, 'warming': 4819, 'solrconfig': 4076, 'querysenderlistener': 3427, 'newsearcher': 2912, 'spellcheckcomponent': 4129, 'spellcheckerlistener': 4131, 'spell': 4128, 'spellchecker': 4130, 'registersearcher': 3567, 'searcher': 3867, 'eeaaf': 1277, 'select': 3895, 'qt': 3417, 'dataimporthandler': 1002, 'processconfiguration': 3339, 'dataimporter': 1001, 'loaddataconfig': 2542, 'loaded': 2543, 'verifywithschema': 4767, 'solrschema': 4082, 'dataconfig': 997, 'dofullimport': 1211, 'starting': 4179, 'solrwriter': 4084, 'readindexerproperties': 3484, 'properties': 3370, 'logtransformer': 2576, 'transformrow': 4553, 'artcle': 257, 'solrdeletionpolicy': 4078, 'oninit': 3027, 'num': 2977, 'segfn': 3892, 'segments': 3894, 'filenames': 1544, 'fnm': 1597, 'frq': 1657, 'prx': 3391, 'tis': 4500, 'tii': 4482, 'nrm': 2972, 'fdt': 1506, 'fdx': 1507, 'updatecommits': 4679, 'newest': 2906, 'article': 260, 'docbuilder': 1202, 'indexed': 2105, 'filelistentityprocessor': 1542, 'basedir': 366, 'filename': 1543, 'rootentity': 3772, 'datasource': 1007, 'plaintextentityprocessor': 3217, 'fileabsolutepath': 1536, 'transformer': 4552, 'logtemplate': 2575, 'loglevel': 2572, 'text': 4430, 'tex': 4429, 'est': 1364, 'comes': 752, 'eli': 1299, 'xerces': 4932, 'sax': 3833, 'satisfy': 3828, 'monkey': 2829, 'div': 1191, 'datepicker': 1015, 'td': 4368, 'toplabel': 4531, 'color': 741, 'windowtext': 4876, 'css': 961, 'official': 3007, 'captiontext': 568, 'weight': 4847, 'bold': 465, 'decoration': 1050, 'frequently': 1651, 'title': 4501, 'contents': 882, 'aki': 120, 'persistence': 3191, 'side': 4003, 'expose': 1446, 'serverpersistencetest': 3934, 'clientpersistencetest': 697, 'systests': 4335, 'ws': 4921, 'specs': 4124, 'freeman': 1648, 'reuploading': 3710, 'corrected': 916, 'suggestions': 4282, 'activate': 42, 'initializes': 2138, 'servingxml': 3939, 'internals': 2199, 'deactivate': 1027, 'extraneous': 1465, 'kevin': 2400, 'antonio': 194, 'adrian': 82, 'accountnames': 33, 'shalinmangar': 3969, 'steffkes': 4196, 'otis': 3072, 'erikhatcher': 1355, 'shalin': 3968, 'stefan': 4195, 'admins': 77, 'administrators': 75, 'groups': 1828, 'ton': 4523, 'kai': 2387, 'cvs': 977, 'objects': 2989, 'serializable': 3921, 'vacation': 4728, 'pradeep': 3278, 'committer': 770, 'teddy': 4373, 'preflight': 3298, 'tucu': 4589, 'fence': 1523, 'serializing': 3927, 'parallelizing': 3121, 'shutdown': 3998, 'mrappmaster': 2841, 'closeall': 707, 'explicitly': 1441, 'setboolean': 3946, 'automatic': 335, 'curious': 965, 'intends': 2184, 'watching': 4825, 'til': 4484, 'free': 1646, 'grab': 1809, 'irc': 2240, 'investigations': 2219, 'josh': 2354, 'jci': 2294, 'minoccurs': 2774, 'workaround': 4892, 'wsn': 4923, 'hari': 1881, 'nevermind': 2901, 'addressed': 66, 'profiles': 3354, 'yarn': 4963, 'hyunsik': 2008, 'tajo': 4345, 'suffix': 4276, 'ull': 4627, 'eecontextimpl': 1278, 'newcontext': 2905, 'newmodulecontext': 2909, 'sqltransformer': 4147, 'stripped': 4235, 'crack': 942, 'jd': 2295, 'vm': 4799, 'ri': 3740, 'constant': 862, 'verifying': 4766, 'xverify': 4957, 'alan': 121, 'yea': 4967, 'posture': 3269, 'accepted': 22, 'queryrunner': 3426, 'everyone': 1379, 'asyncqueryrunner': 300, 'improved': 2074, 'dbutils': 1024, 'propose': 3374, 'extend': 1453, 'benoy': 404, 'offering': 3005, 'antlr': 192, 'daunting': 1016, 'knock': 2420, 'wood': 4889, 'stab': 4159, 'multiget': 2851, 'slice': 4051, 'omitted': 3023, 'remember': 3599, 'decision': 1044, 'revisited': 3732, 'reminding': 3602, 'freeze': 1649, 'reopening': 3621, 'votes': 4808, 'feauture': 1510, 'expectations': 1423, 'releasing': 3590, 'geomultidist': 1717, 'function': 1669, 'groovy': 1824, 'allude': 137, 'mistake': 2789, 'ported': 3249, 'feeling': 1517, 'lastmodified': 2453, 'truncated': 4580, 'harmful': 1883, 'canwrite': 566, 'minimise': 2771, 'setlastmodified': 3950, 'getrecordifstored': 1757, 'immediate': 2047, 'swallowed': 4318, 'caught': 587, 'converted': 902, 'blobindatastore': 449, 'getsize': 1764, 'getlength': 1739, 'getlengths': 1740, 'warning': 4822, 'resubmitting': 3696, 'findbugs': 1561, 'phenomenon': 3197, 'often': 3011, 'halfway': 1854, 'raise': 3449, 'smallish': 4060, 'clusters': 716, 'param': 3122, 'situation': 4039, 'rs': 3783, 'window': 4874, 'heartbeat': 1908, 'frequency': 1650, 'ramped': 3460, 'fb': 1503, 'implementing': 2059, 'win': 4873, 'plugins': 3231, 'geronimo': 1719, 'sections': 3880, 'commongeneralsection': 775, 'vikram': 4780, 'clickide': 693, 'reader': 3481, 'termdocs': 4387, 'removal': 3605, 'suck': 4271, 'dumb': 1243, 'dirmina': 1168, 'therefore': 4438, 'github': 1783, 'jukka': 2373, 'oak': 2985, 'ea': 1254, 'ed': 1268, 'tabs': 4340, 'fisheye': 1572, 'changelog': 610, 'click': 690, 'controlregistry': 896, 'growing': 1829, 'heads': 1904, 'applications': 223, 'releases': 3589, 'stop': 4207, 'years': 4971, 'received': 3511, 'maintenance': 2625, 'concept': 815, 'newbie': 2904, 'impression': 2071, 'advantages': 86, 'clickclick': 691, 'complex': 802, 'guarantee': 1835, 'remain': 3598, 'bloated': 447, 'afford': 91, 'published': 3395, 'tapestry': 4354, 'aboard': 7, 'history': 1936, 'trow': 4578, 'black': 437, 'fun': 1667, 'virtual': 4791, 'rcmes': 3477, 'site': 4038, 'jinwon': 2319, 'dept': 1103, 'atmospheric': 302, 'oceanic': 2998, 'sciences': 3852, 'joint': 2348, 'institute': 2171, 'regional': 3562, 'earth': 1258, 'science': 3851, 'engineering': 1326, 'university': 4650, 'california': 549, 'los': 2591, 'angeles': 177, 'ca': 539, 'username': 4715, 'inherited': 2132, 'inetaddress': 2118, 'compliant': 805, 'spec': 4116, 'hunk': 2001, 'regenerate': 3558, 'testbookkeeperhacheckpoints': 4396, 'dfsconfigkeys': 1139, 'edits': 1273, 'bkjmutil': 435, 'createjournaluri': 953, 'checkpointing': 630, 'journalcount': 2357, 'tostring': 4532, 'addjournalmanagerdefinition': 62, 'setupcluster': 3963, 'almost': 138, 'duplicates': 1247, 'teststandbycheckpoints': 4425, 'extracting': 1463, 'afterclass': 93, 'shutdownbk': 3999, 'bkutil': 436, 'teardown': 4370, 'nmy': 2933, 'continue': 886, 'prasad': 3281, 'maja': 2626, 'fknames': 1579, 'sending': 3903, 'sigterm': 4014, 'alas': 122, 'containerlaunch': 877, 'sends': 3904, 'instantly': 2169, 'conserve': 854, 'noise': 2944, 'dawid': 1019, 'initially': 2141, 'internal': 2196, 'presume': 3305, 'reports': 3646, 'become': 387, 'exploits': 1443, 'guessing': 1840, 'breaks': 491, 'macos': 2613, 'massembly': 2677, 'clarifies': 665, 'mimeinput': 2761, 'eml': 1308, 'slight': 4052, 'anyways': 205, 'touched': 4535, 'render': 3617, 'switching': 4322, 'outlined': 3079, 'assaf': 279, 'buildr': 522, 'combination': 745, 'artifactnamespace': 261, 'jms': 2325, 'tks': 4503, 'commtents': 778, 'follows': 1606, 'hbasefsck': 1893, 'initialpoolnumthreads': 2142, 'hurt': 2003, 'safer': 3809, 'unexpected': 4643, 'style': 4250, 'robbie': 3755, 'robert': 3756, 'containers': 878, 'predefined': 3287, 'min': 2762, 'parameter': 3123, 'tracks': 4544, 'starts': 4180, 'attempts': 315, 'ended': 1320, 'occasionally': 2996, 'screws': 3859, 'hopes': 1965, 'testhdfsproxy': 4409, 'testhdfsproxyinterface': 4410, 'jdbc': 2296, 'oracledriver': 3056, 'asked': 275, 'alvaro': 152, 'installation': 2157, 'links': 2529, 'incubator': 2101, 'openmeetings': 3037, 'tutorials': 4599, 'sebastian': 3872, 'oliver': 3019, 'misuse': 2793, 'encountered': 1318, 'shall': 3970, 'ravikiran': 3471, 'mane': 2644, 'push': 3403, 'ga': 1684, 'zhijie': 4989, 'assigning': 292, 'sameeer': 3815, 'espen': 1361, 'andrzej': 175, 'docid': 1204, 'enwikidocmaker': 1346, 'ce': 594, 'aebe': 88, 'bce': 378, 'tagged': 4343, 'ios': 2232, 'shengtao': 3980, 'bindingtemplate': 429, 'overwriting': 3097, 'bindingtemplates': 430, 'saving': 3831, 'overwrite': 3096, 'uddi': 4618, 'tells': 4375, 'differentiate': 1149, 'kurt': 2432, 'member': 2710, 'holy': 1955, 'crap': 943, 'confusing': 844, 'append': 219, 'radim': 3445, 'mikelid': 2754, 'daemon': 983, 'shazron': 3977, 'repro': 3652, 'carlin': 574, 'dashes': 993, 'aleksei': 125, 'twitter': 4604, 'fork': 1620, 'bookkeeper': 468, 'jose': 2353, 'extractionrequesthandler': 1464, 'updatecurrentiterator': 4680, 'reverse': 3715, 'identified': 2022, 'placing': 3214, 'needinfo': 2889, 'awaiting': 346, 'hong': 1960, 'urls': 4705, 'merely': 2717, 'packaging': 3105, 'jquery': 2361, 'couch': 926, 'vision': 4794, 'stay': 4193, 'ship': 3982, 'futon': 1678, 'replacing': 3632, 'fauxton': 1501, 'stops': 4210, 'deps': 1102, 'clarify': 666, 'thinks': 4443, 'conflicts': 840, 'intent': 2185, 'getplatformpath': 1753, 'corrects': 921, 'continuous': 888, 'timeouts': 4489, 'clearoutgoingqueues': 686, 'localqueuefornextiteration': 2556, 'concurrently': 822, 'sticking': 4204, 'formats': 1625, 'wmgr': 4886, 'localhost': 2551, 'getworkflowinstmet': 1775, 'overlap': 3091, 'cachedsqlentityprocessor': 543, 'usp': 4720, 'sqlentityprocessor': 4144, 'invalid': 2215, 'symbolic': 4324, 'jarek': 2283, 'incompatible': 2086, 'glad': 1787, 'land': 2441, 'triage': 4566, 'performing': 3183, 'interval': 2206, 'milliseconds': 2760, 'longs': 2581, 'overflow': 3088, 'desired': 1119, 'shaneal': 3971, 'sufficiently': 4275, 'convinced': 905, 'tjake': 4502, 'stephen': 4199, 'interruptedexception': 2204, 'ignore': 2032, 'currentthread': 968, 'resetting': 3667, 'imho': 2046, 'tikaexception': 4483, 'indicate': 2114, 'requested': 3657, 'interrupted': 2203, 'waitfor': 4811, 'blindly': 445, 'ian': 2009, 'fat': 1499, 'eventhough': 1373, 'ism': 2249, 'dnoting': 1198, 'rgen': 3738, 'notes': 2956, 'zheng': 4988, 'seen': 3891, 'grouped': 1826, 'sum': 4287, 'unknow': 4652, 'fictitious': 1527, 'apllied': 212, 'ahsan': 110, 'google': 1801, 'opensource': 3040, 'blogspot': 457, 'student': 4244, 'deadline': 1029, 'mahadev': 2617, 'reiss': 3575, 'recall': 3509, 'jonathan': 2351, 'satisfied': 3827, 'chad': 604, 'json': 2368, 'protocol': 3382, 'reevaluate': 3535, 'computer': 813, 'loop': 2588, 'fundamental': 1673, 'languages': 2447, 'unlikely': 4656, 'suits': 4285, 'compromise': 812, 'startup': 4181, 'tmp': 4505, 'tempfile': 4379, 'marker': 2670, 'anywhere': 206, 'somewhere': 4096, 'bottom': 477, 'lukas': 2608, 'transports': 4561, 'vinay': 4781, 'setnextreader': 3953, 'items': 2257, 'elevated': 1296, 'broke': 500, 'imports': 2069, 'intellij': 2181, 'staticjavascript': 4189, 'javascript': 2289, 'jsp': 2369, 'profit': 3355, 'browsers': 506, 'benefint': 400, 'generating': 1710, 'dynamic': 1252, 'forms': 1631, 'reopenning': 3623, 'releated': 3591, 'publish': 3394, 'ibiblio': 2010, 'rwx': 3805, 'dblevins': 1023, 'jul': 2374, 'raghu': 3446, 'cast': 581, 'eye': 1466, 'integration': 2179, 'abayer': 3, 'cfs': 601, 'metastore': 2736, 'cql': 941, 'milliondreams': 2758, 'thrift': 4462, 'storage': 4211, 'scatter': 3843, 'gather': 1692, 'refers': 3547, 'tuples': 4594, 'position': 3255, 'targetting': 4360, 'avery': 342, 'jonas': 2350, 'jaigak': 2273, 'pointers': 3237, 'navigating': 2882, 'florent': 1590, 'extracted': 1462, 'demanding': 1083, 'spend': 4133, 'elegant': 1292, 'improvements': 2076, 'nutchdocument': 2982, 'versionedwritable': 4770, 'writable': 4909, 'delegate': 1072, 'superclass': 4295, 'refactor': 3536, 'getdetails': 1729, 'hitdetailer': 1939, 'searchbean': 3866, 'xxxbean': 4960, 'lucenesearchbean': 2604, 'rpcsearchbean': 3782, 'ngramprofile': 2916, 'htmllanguageparser': 1989, 'languageidentifier': 2446, 'backend': 353, 'vector': 4754, 'options': 3054, 'simplify': 4030, 'alternatively': 149, 'lucenewriter': 2605, 'ignoring': 2034, 'slower': 4057, 'intuitive': 2214, 'solrserver': 4083, 'partial': 3132, 'revert': 3720, 'tsuy': 4587, 'mod': 2806, 'mbox': 2697, 'clerezza': 688, 'caanlktikodvhwezyuzssej': 540, 'nzwjudfhri': 2984, 'qkxjbmis': 3413, 'wf': 4855, 'tb': 4367, 'publications': 3393, 'gtbr': 1833, 'execsummary': 1406, 'ar': 239, 'pdf': 3167, 'responsebuilder': 3684, 'getfilters': 1732, 'filter': 1553, 'utilizes': 4726, 'filtercache': 1554, 'replies': 3637, 'record': 3519, 'notice': 2958, 'respectively': 3679, 'idiom': 2024, 'notably': 2953, 'basejdbctestcase': 367, 'cleaning': 676, 'houx': 1976, 'zhang': 4987, 'replied': 3636, 'adopt': 81, 'httpcore': 1991, 'counters': 932, 'ten': 4382, 'winxp': 4878, 'bigger': 415, 'dot': 1218, 'stuffing': 4247, 'fileinto': 1541, 'reject': 3577, 'anyof': 201, 'subject': 4256, 'jsieve': 2367, 'tokenmgrerror': 4516, 'lexical': 2499, 'sieveparsertokenmanager': 4006, 'getnexttoken': 1748, 'sieveparser': 4005, 'jjtreeopennodescope': 2322, 'checkin': 626, 'francis': 1645, 'sca': 3838, 'hence': 1920, 'marcelo': 2663, 'authresult': 333, 'ugh': 4621, 'javadocs': 2288, 'hear': 1906, 'password': 3142, 'rk': 3751, 'ocs': 2999, 'avi': 343, 'signed': 4011, 'posted': 3260, 'speedups': 4127, 'measured': 2706, 'impressive': 2072, 'mac': 2610, 'understanding': 4640, 'jdeveloper': 2297, 'xmlparserv': 4945, 'fyi': 1683, 'imported': 2067, 'frustrating': 1658, 'accomplish': 30, 'knew': 2419, 'laid': 2439, 'doc': 1200, 'tuning': 4593, 'ready': 3488, 'ack': 35, 'destination': 1121, 'messagedispatch': 2727, 'noticeable': 2959, 'stress': 4222, 'defaults': 1060, 'periodic': 3187, 'fontsetup': 1610, 'wants': 4817, 'happened': 1871, 'strict': 4224, 'fo': 1598, 'clearer': 683, 'alexey': 130, 'undo': 4642, 'audit': 324, 'dependencies': 1092, 'gary': 1690, 'waiting': 4813, 'clearance': 682, 'employer': 1309, 'unaryfunction': 4634, 'faster': 1497, 'classloader': 669, 'brian': 492, 'minchau': 2764, 'helge': 1912, 'schulz': 3850, 'openshore': 3039, 'dhruba': 1140, 'borthakur': 476, 'safemode': 3808, 'executed': 1408, 'editlogs': 1271, 'corrupted': 923, 'exact': 1387, 'corrections': 918, 'simplifying': 4031, 'getresourceasstream': 1759, 'getresource': 1758, 'alternative': 148, 'abstractfileobject': 17, 'fileobjecthanded': 1546, 'fileobjectdestroyed': 1545, 'dodetach': 1210, 'overriding': 3093, 'detach': 1123, 'isreleasable': 2252, 'promoted': 3363, 'ossrh': 3067, 'roughly': 3774, 'appear': 217, 'matches': 2681, 'investigate': 2217, 'auditor': 325, 'ledgermanagers': 2483, 'initialization': 2135, 'rw': 3804, 'threads': 4459, 'daemons': 984, 'managers': 2641, 'bookieidentifier': 467, 'abstractconfiguration': 13, 'zkc': 4993, 'ledgermanager': 2482, 'ledgerunderreplicationmanager': 2486, 'hustlmsp': 2004, 'rewrite': 3735, 'testfsck': 4407, 'assertion': 284, 'imran': 2080, 'tweaked': 4602, 'capture': 569, 'standardtermsdictreader': 4171, 'termsin': 4390, 'doccount': 1203, 'attrs': 321, 'downgraded': 1222, 'skipoffset': 4045, 'iterative': 2261, 'connector': 852, 'sumeet': 4288, 'purposely': 3402, 'dynamically': 1253, 'risky': 3750, 'registry': 3569, 'ruwan': 3803, 'haohui': 1869, 'lose': 2592, 'ramdirectory': 3456, 'clone': 703, 'heap': 1905, 'limited': 2517, 'kb': 2394, 'gigabyte': 1779, 'several': 3964, 'disk': 1179, 'mmapdir': 2803, 'horrible': 1967, 'indexes': 2106, 'seeking': 3887, 'limitation': 2516, 'unfixable': 4644, 'ramdir': 3455, 'larger': 2449, 'blocs': 456, 'iocontext': 2229, 'kilobytes': 2412, 'depending': 1095, 'tmpfs': 4506, 'solaris': 4074, 'mmap': 2802, 'modeshape': 2813, 'tweak': 4601, 'rule': 3792, 'languagedetection': 2445, 'candidates': 563, 'ahmed': 109, 'valve': 4743, 'conetxt': 826, 'zoo': 4997, 'amulti': 164, 'anybody': 199, 'jeffrey': 2301, 'manifest': 2646, 'mf': 2740, 'export': 1445, 'bnd': 461, 'instructions': 2173, 'introspection': 2211, 'tinderbox': 4495, 'ue': 4620, 'insert': 2152, 'endpoints': 1322, 'rf': 3736, 'month': 2830, 'jerome': 2305, 'skeleton': 4043, 'hashmap': 1887, 'wise': 4881, 'solved': 4087, 'bertrand': 405, 'grammar': 1811, 'counter': 931, 'separately': 3912, 'delegating': 1073, 'formatvaluelist': 1628, 'testdriver': 4403, 'guava': 1837, 'join': 2347, 'mrunit': 2843, 'stupidly': 4249, 'disagree': 1172, 'bat': 373, 'tanping': 4353, 'image': 2041, 'showing': 3993, 'blip': 446, 'padding': 3110, 'wave': 4826, 'inconvenience': 2089, 'meanwhile': 2704, 'percentage': 3176, 'dimensions': 1157, 'jpep': 2360, 'quality': 3422, 'variations': 4749, 'rodrigo': 3758, 'introduce': 2207, 'recently': 3515, 'experiencing': 1430, 'jscookmenu': 2365, 'inputcalendar': 2150, 'dateformatsymbols': 1014, 'firefox': 1567, 'confirm': 838, 'half': 1853, 'retrigger': 3704, 'luis': 2607, 'olivier': 3020, 'slave': 4048, 'resolving': 3673, 'trigger': 4572, 'aware': 347, 'prepare': 3300, 'testloadincrementalhfiles': 4414, 'derek': 1107, 'simplefs': 4024, 'directoryfactory': 1167, 'impls': 2064, 'directiolinuxdirectory': 1161, 'highly': 1934, 'experimental': 1431, 'bulk': 526, 'obliged': 2991, 'fop': 1613, 'effect': 1279, 'phani': 3196, 'vamsi': 4744, 'silly': 4017, 'forcesync': 1616, 'volatile': 4802, 'todo': 4511, 'endpoint': 1321, 'routes': 3777, 'fly': 1596, 'polling': 3241, 'consumer': 870, 'toolbox': 4526, 'customer': 972, 'dictate': 1142, 'dsl': 1236, 'routing': 3778, 'known': 2423, 'systems': 4333, 'curiosity': 964, 'deployed': 1098, 'fd': 1504, 'repeats': 3627, 'respond': 3680, 'cincludetransformer': 658, 'concern': 817, 'unpleasant': 4662, 'implication': 2061, 'unsuspecting': 4671, 'turn': 4595, 'pipeline': 3209, 'determine': 1127, 'getvalidity': 1774, 'returns': 3709, 'object': 2987, 'returned': 3707, 'xincludetransformer': 4939, 'ramin': 3457, 'sqlstate': 4146, 'xie': 4937, 'reusing': 3712, 'involved': 2226, 'assumptions': 298, 'pricing': 3316, 'multiselect': 2854, 'absolute': 10, 'price': 3315, 'openjdk': 3036, 'usr': 4721, 'libraries': 2506, 'stands': 4172, 'designations': 1116, 'qualifiers': 3420, 'donald': 1215, 'reassigned': 3501, 'tranql': 4547, 'localization': 2554, 'uploading': 4695, 'sreekanth': 4150, 'cos': 925, 'tarball': 4356, 'refactoring': 3538, 'followup': 1607, 'abstractions': 19, 'chunk': 655, 'igor': 2035, 'thrown': 4466, 'xal': 4928, 'apology': 213, 'compiles': 797, 'warms': 4820, 'heart': 1907, 'daniel': 990, 'npes': 2970, 'fragment': 1639, 'rtf': 3787, 'provokes': 3389, 'payloadnearquery': 3159, 'spans': 4111, 'payloads': 3161, 'retrieved': 3703, 'iterating': 2258, 'setfreqcurrentdoc': 3948, 'safe': 3807, 'variables': 4748, 'payloadtermspanscorer': 3164, 'payloadnearspanscorer': 3160, 'payloadscore': 3162, 'payloadsseen': 3163, 'payloadfunction': 3158, 'lightweight': 2512, 'pattern': 3153, 'peter': 3195, 'alive': 133, 'dns': 1199, 'testcases': 4398, 'dushshantha': 1249, 'manual': 2649, 'rubygems': 3790, 'gems': 1701, 'array': 254, 'flatten': 1584, 'successful': 4269, 'responds': 3682, 'str': 4215, 'duh': 1242, 'ir': 2239, 'subclassing': 4254, 'jagane': 2272, 'loose': 2589, 'mayank': 2692, 'stopfilter': 4209, 'stopanalyzer': 4208, 'rfc': 3737, 'transform': 4550, 'nvt': 2983, 'receiving': 3513, 'separator': 3913, 'platform': 3223, 'sender': 3902, 'telnet': 4376, 'receiver': 3512, 'according': 31, 'retr': 3701, 'transformed': 4551, 'ebcdic': 1264, 'clients': 698, 'encoded': 1316, 'encoding': 1317, 'supports': 4304, 'live': 2537, 'verdict': 4762, 'lookups': 2587, 'virbr': 4790, 'networks': 2897, 'mocking': 2804, 'unreasonable': 4664, 'glanced': 1789, 'exploring': 1444, 'didnt': 1143, 'separated': 3911, 'divisor': 1193, 'generalize': 1703, 'iwc': 2266, 'terms': 4389, 'constants': 863, 'unhappy': 4646, 'termsindexreaderbase': 4391, 'fieldsproducer': 1531, 'dict': 1141, 'tackle': 4341, 'untyped': 4674, 'flavio': 1585, 'bet': 408, 'built': 524, 'everybody': 1378, 'ouch': 3075, 'mirror': 2781, 'offlne': 3009, 'mxmlc': 2862, 'mxml': 2861, 'osx': 3068, 'cnet': 723, 'strip': 4232, 'becomes': 388, 'gridmix': 1822, 'range': 3464, 'secs': 3878, 'fairscheduler': 1490, 'explicit': 1440, 'stringbuilder': 4230, 'columns': 743, 'portions': 3252, 'serializerow': 3926, 'sstablereader': 4155, 'sstableidentityiterator': 4154, 'decoratedkey': 1049, 'printstream': 3323, 'janko': 2279, 'chunhui': 654, 'jochen': 2341, 'dxmlrpc': 1251, 'yeap': 4969, 'yc': 4966, 'dismaxrequesthandler': 1180, 'standardrequesthandler': 4170, 'searchhandler': 3869, 'afterdeploymentvalidation': 94, 'adddeploymentproblem': 52, 'deltaspike': 1082, 'fwiw': 1682, 'fuse': 1676, 'esb': 1359, 'aries': 248, 'beans': 383, 'shipped': 3983, 'restarted': 3690, 'ambiguity': 158, 'float': 1589, 'unions': 4648, 'scala': 3839, 'stage': 4164, 'agrees': 105, 'fddbff': 1505, 'ad': 49, 'bc': 377, 'ab': 2, 'saha': 3811, 'mon': 2827, 'tez': 4431, 'objentity': 2990, 'datamap': 1004, 'amber': 157, 'oauth': 2986, 'connect': 848, 'jwt': 2386, 'absence': 9, 'mv': 2859, 'justinedelson': 2382, 'feedbacks': 1514, 'lint': 2530, 'directive': 1162, 'jhsenjaliya': 2310, 'saxon': 3834, 'hanging': 1867, 'ivy': 2264, 'brandon': 487, 'appassembler': 216, 'outstanding': 3085, 'mappasm': 2655, 'prompt': 3364, 'suppressed': 4308, 'rare': 3466, 'autopagingcontent': 338, 'usage': 4707, 'mikhail': 2755, 'conn': 847, 'getobject': 1749, 'atompub': 304, 'appobjectentry': 228, 'futher': 1677, 'remote': 3604, 'liyin': 2539, 'hammered': 1855, 'formed': 1629, 'forks': 1621, 'omer': 3021, 'parseledgerconfig': 3127, 'hub': 1995, 'acquired': 37, 'ledger': 2480, 'ledgeropenop': 2484, 'ledgers': 2485, 'synchronization': 4328, 'setsignaled': 3956, 'integrate': 2177, 'slavik': 4049, 'jerry': 2306, 'updatingmultiplelinearregression': 4689, 'greg': 1818, 'clarification': 663, 'certain': 598, 'atul': 322, 'fallback': 1491, 'steven': 4202, 'martijn': 2673, 'nuke': 2974, 'datadomain': 999, 'visual': 4796, 'disappearing': 1174, 'unsettling': 4667, 'valgrind': 4729, 'loss': 2593, 'regs': 3572, 'lahiru': 2438, 'federated': 1512, 'vincenzo': 4783, 'builder': 519, 'sampling': 3820, 'inlined': 2146, 'graph': 1814, 'hotspots': 1972, 'reduced': 3531, 'triggered': 4573, 'cant': 565, 'emanuele': 1305, 'understood': 4641, 'print': 3319, 'frame': 1642, 'exn': 1420, 'deserve': 1113, 'anupam': 196, 'absolutely': 11, 'friend': 1654, 'sourygna': 4106, 'restored': 3691, 'reviewers': 3726, 'examining': 1390, 'tri': 4565, 'cursorily': 969, 'commonuilabels': 777, 'sides': 4004, 'roo': 3770, 'grayed': 1815, 'focusedcommentid': 1599, 'scan': 3841, 'designing': 1118, 'indika': 2116, 'gautam': 1693, 'ww': 4926, 'ask': 274, 'mutatelevel': 2858, 'predicted': 3290, 'bill': 421, 'delimiter': 1081, 'shorter': 3988, 'mistakes': 2790, 'misunderstandings': 2791, 'shreepadma': 3995, 'efforts': 1284, 'databases': 996, 'postgres': 3265, 'raymie': 3474, 'requires': 3663, 'pieter': 3202, 'groeten': 1823, 'henk': 1921, 'penning': 3173, 'addon': 63, 'incorporates': 2091, 'isinfoenabled': 2246, 'addstoredblock': 70, 'xueqiang': 4956, 'qjm': 3412, 'unnecessarily': 4657, 'weaken': 4830, 'dtacloud': 1239, 'reproducing': 3654, 'hbaserpc': 1894, 'hidden': 1931, 'newpost': 2911, 'sets': 3955, 'publishentry': 3396, 'cw': 978, 'gtalk': 1832, 'conversation': 898, 'anton': 193, 'measure': 2705, 'kaushalye': 2391, 'amp': 163, 'urlhelpertest': 4704, 'gon': 1798, 'na': 2866, 'getsequentialsubreaders': 1763, 'shouldnt': 3991, 'affect': 89, 'marcuse': 2665, 'rebase': 3503, 'patching': 3148, 'homebrewed': 1957, 'exploded': 1442, 'ear': 1255, 'war': 4818, 'packing': 3109, 'reloading': 3596, 'hot': 1971, 'deployment': 1099, 'annoying': 184, 'brocknoland': 499, 'outdated': 3076, 'annotations': 181, 'skipped': 4046, 'staging': 4166, 'privileges': 3329, 'repositories': 3649, 'role': 3762, 'billgraham': 422, 'gates': 1691, 'gopalv': 1803, 'hashutosh': 1888, 'jitendra': 2321, 'julien': 2375, 'kevinwilfong': 2401, 'tomwhite': 4522, 'vinodkv': 4786, 'prepared': 3301, 'artifacts': 262, 'staged': 4165, 'resource': 3674, 'loader': 2544, 'garbage': 1688, 'collection': 737, 'durable': 1248, 'idle': 2027, 'getsystemloadavg': 1766, 'portable': 3248, 'fresh': 1652, 'midnight': 2750, 'utc': 4723, 'yyyy': 4982, 'mm': 2801, 'violation': 4789, 'imagining': 2044, 'cleaner': 675, 'mapper': 2656, 'reducer': 3532, 'closeable': 706, 'bharath': 412, 'createdir': 952, 'recursive': 3525, 'manner': 2648, 'mkdirs': 2799, 'hate': 1889, 'charles': 617, 'confirmation': 839, 'chat': 622, 'daisy': 987, 'dispatch': 1181, 'mingfei': 2767, 'svante': 4315, 'cwiki': 979, 'ofbadmin': 3002, 'contributors': 893, 'practices': 3277, 'ofbizcontributorsbestpractices': 3004, 'howtosendinyourcontributions': 1979, 'orhowtocreateandapplypatches': 3062, 'datacontext': 998, 'newobject': 2910, 'dataobjects': 1006, 'dave': 1017, 'accessibility': 24, 'jb': 2292, 'leverage': 2498, 'elliot': 1300, 'failedsanitycheckexception': 1483, 'volunteering': 4806, 'prashanth': 3283, 'remus': 3611, 'rmtestpreparedstatementmethods': 3753, 'jingwei': 2318, 'wrangling': 4907, 'fseditlogop': 1660, 'getrawchecksum': 1756, 'udf': 4619, 'upon': 4697, 'online': 3028, 'snaphots': 4062, 'kv': 2433, 'milind': 2757, 'tracked': 4541, 'momentarily': 2826, 'prasanth': 3282, 'briefly': 493, 'journal': 2356, 'spool': 4139, 'bn': 460, 'checkpoint': 629, 'differs': 1150, 'snn': 4071, 'locked': 2561, 'reapplied': 3495, 'kishan': 2417, 'yingda': 4976, 'chuan': 652, 'stacktraces': 4163, 'eating': 1263, 'consequence': 853, 'provider': 3386, 'profiler': 3353, 'spot': 4141, 'holding': 1952, 'isinsafemode': 2248, 'interfacestability': 2194, 'stable': 4160, 'arpana': 252, 'dang': 989, 'predict': 3289, 'compacting': 781, 'feet': 1519, 'wet': 4854, 'sam': 3813, 'kinda': 2415, 'funny': 1674, 'search': 3865, 'tiago': 4471, 'inspection': 2155, 'staring': 4173, 'engine': 1325, 'suites': 4284, 'canon': 564, 'presence': 3302, 'authorization': 332, 'authenticated': 329, 'authentication': 330, 'ntlm': 2973, 'host': 1968, 'rich': 3741, 'world': 4900, 'behaviors': 392, 'doh': 1212, 'annotation': 180, 'typical': 4610, 'volumeid': 4804, 'volume': 4803, 'declared': 1048, 'improving': 2078, 'fieldmeta': 1529, 'tv': 4600, 'indexingfilter': 2108, 'getfields': 1731, 'arraylist': 255, 'devmode': 1137, 'reload': 3595, 'zipped': 4991, 'aka': 118, 'june': 2377, 'bandwidth': 362, 'friendly': 1655, 'obvious': 2994, 'apresta': 236, 'priorities': 3325, 'chanse': 613, 'pop': 3246, 'fragmented': 1640, 'testimportexport': 4412, 'testsimplecase': 4423, 'testwithdeletes': 4427, 'facing': 1476, 'freed': 1647, 'resty': 3694, 'nitpicks': 2929, 'deprecate': 1100, 'serializations': 3923, 'contexts': 884, 'producing': 3350, 'idl': 2026, 'describing': 1109, 'htable': 1985, 'modeling': 2810, 'cell': 595, 'controllers': 895, 'leon': 2491, 'misspelled': 2788, 'editlogfileinputstream': 1270, 'isinprogress': 2247, 'lasttxid': 2454, 'txid': 4606, 'comparing': 789, 'transactional': 4549, 'elfis': 1298, 'dn': 1197, 'queues': 3431, 'eod': 1347, 'tip': 4498, 'gav': 1694, 'sambavi': 3814, 'jiayan': 2312, 'complexification': 803, 'dry': 1235, 'tracking': 4543, 'fire': 1566, 'mods': 2820, 'admittedly': 79, 'identically': 2021, 'cores': 913, 'wins': 4877, 'track': 4540, 'clue': 714, 'tudor': 4590, 'wss': 4924, 'knowingly': 2422, 'reformat': 3549, 'mishap': 2783, 'getstream': 1765, 'modulke': 2823, 'notices': 2961, 'replaces': 3631, 'numeric': 2980, 'enumerated': 1341, 'ronald': 3769, 'th': 4432, 'drawing': 1228, 'testwordcounttether': 4428, 'suspect': 4314, 'subprocess': 4264, 'chatra': 623, 'sameer': 3816, 'reattaching': 3502, 'manjula': 2647, 'networkservercontrol': 2898, 'servercontrol': 3932, 'testconfiguration': 4399, 'getcurrent': 1727, 'getport': 1754, 'hostname': 1969, 'gethostname': 1736, 'getbyname': 1722, 'initialized': 2137, 'networkservertestsetup': 2899, 'getnetworkservercontrol': 1745, 'getmessage': 1744, 'printstacktrace': 3322, 'placed': 3211, 'getnewport': 1746, 'reformatting': 3550, 'white': 4862, 'citation': 660, 'henry': 1923, 'qcm': 3411, 'listener': 2534, 'le': 2467, 'election': 1291, 'quorumpeer': 3438, 'mockserver': 2805, 'sijie': 4015, 'rol': 3761, 'abhi': 4, 'sudha': 4273, 'sufficient': 4274, 'rack': 3442, 'owns': 3101, 'east': 1261, 'init': 2133, 'gb': 1696, 'mb': 2696, 'rupert': 3800, 'machines': 2612, 'surefire': 4310, 'reportsr': 3647, 'esse': 1362, 'jenatdb': 2302, 'deadlock': 1030, 'ewins': 1386, 'nagoya': 2867, 'prachi': 3275, 'gregory': 1819, 'entrylogger': 1340, 'red': 3527, 'homogeneous': 1958, 'hosts': 1970, 'jakarta': 2275, 'commons': 776, 'telnetclient': 4377, 'ftpclient': 1663, 'randy': 3463, 'charsetutil': 621, 'assertionfailederror': 285, 'setdefault': 3947, 'etdefault': 1366, 'indexwriter': 2113, 'normswriter': 2951, 'bash': 369, 'csh': 960, 'ksh': 2431, 'aix': 114, 'designed': 1117, 'yusaku': 4981, 'postpone': 3268, 'resovled': 3678, 'facets': 1474, 'ies': 2030, 'wishes': 4883, 'facetfields': 1473, 'patterns': 3154, 'testdatanodeblockscanner': 4400, 'extensive': 1458, 'compare': 788, 'noah': 2935, 'posterity': 3262, 'grunt': 1830, 'autotools': 339, 'makefile': 2631, 'maintain': 2624, 'makefila': 2630, 'addons': 64, 'activetasks': 45, 'assets': 288, 'underscore': 4638, 'systemutils': 4334, 'searcherholder': 3868, 'indexreader': 2111, 'decref': 1052, 'incref': 2098, 'simplicity': 4028, 'offers': 3006, 'blind': 444, 'synchronized': 4329, 'indexreaders': 2112, 'dec': 1040, 'attache': 306, 'rajesh': 3452, 'defer': 1061, 'dependance': 1090, 'xeiguiming': 4931, 'preference': 3294, 'umask': 4630, 'appropriately': 232, 'higher': 1933, 'environments': 1345, 'chime': 642, 'tight': 4478, 'potspone': 3272, 'redesign': 3529, 'johnny': 2346, 'magic': 2616, 'anchela': 169, 'submitting': 4263, 'man': 2637, 'network': 2896, 'prakash': 3279, 'positive': 3256, 'girls': 1781, 'year': 4970, 'collaborate': 733, 'siying': 4040, 'del': 1069, 'jexl': 2308, 'arithmetic': 250, 'jexlnode': 2309, 'propertyexecutor': 3372, 'booleanpropertyexecutor': 471, 'uberspectloggable': 4614, 'getexecutor': 1730, 'uberspectimpl': 4613, 'introspector': 2212, 'rej': 3576, 'proper': 3368, 'regexp': 3560, 'guaranteed': 1836, 'rejects': 3579, 'xiao': 4936, 'li': 2503, 'getter': 1769, 'mirdul': 2780, 'arpitgupta': 253, 'narrow': 2877, 'mass': 2676, 'significance': 4012, 'corrupts': 924, 'msie': 2846, 'yesterday': 4974, 'disregard': 1184, 'char': 614, 'clk': 701, 'malcolm': 2635, 'boris': 475, 'adminprotos': 76, 'favorednodeassignmenthelper': 1502, 'placesecondaryandtertiarywithrestrictions': 3213, 'introduces': 2209, 'containing': 879, 'branching': 486, 'refactored': 3537, 'conditions': 825, 'fsutils': 1662, 'localitycheck': 2553, 'threadpoolsize': 4458, 'hconstants': 1897, 'various': 4750, 'mesos': 2723, 'blob': 448, 'cpp': 940, 'arises': 249, 'howto': 1978, 'buildplugin': 521, 'abovementioned': 8, 'forrest': 1634, 'comparable': 785, 'dtd': 1240, 'varchar': 4746, 'collations': 734, 'akash': 119, 'jain': 2274, 'jakob': 2276, 'korherr': 2428, 'corinne': 914, 'tommaso': 4520, 'uimaconfig': 4625, 'defining': 1065, 'elements': 1294, 'lst': 2601, 'confident': 829, 'uima': 4624, 'sentenceannotation': 3909, 'coveredtext': 938, 'sentence': 3908, 'admit': 78, 'zk': 4992, 'hangs': 1868, 'patched': 3146, 'concerned': 818, 'libpthread': 2505, 'rebuilding': 3506, 'indexmanagerimpl': 2110, 'raible': 3448, 'roller': 3764, 'referrerqueuemanagerimpl': 3545, 'instantiating': 2168, 'referrer': 3544, 'weblogger': 4836, 'searchoperation': 3870, 'xuefu': 4955, 'eugene': 1367, 'msvc': 2847, 'regrettably': 3571, 'tuscany': 4597, 'compositewirebuilderimpl': 809, 'wei': 4846, 'uma': 4629, 'dropped': 1234, 'lg': 2501, 'opposite': 3046, 'suppress': 4307, 'hrs': 1983, 'jobdetails': 2333, 'screenshot': 3857, 'ot': 3069, 'persons': 3194, 'uriroot': 4702, 'webapps': 4833, 'outputdir': 3082, 'mapred': 2658, 'webxml': 4842, 'isalreadyexpiring': 2243, 'flase': 1582, 'expireifonline': 1434, 'adriano': 83, 'summarize': 4289, 'vinicius': 4784, 'ruth': 3802, 'yum': 4979, 'repolist': 3640, 'whoever': 4864, 'workspace': 4898, 'workspaces': 4899, 'collector': 739, 'ideally': 2018, 'getsystemsession': 1767, 'apis': 211, 'walk': 4814, 'ray': 3473, 'jacoo': 2269, 'syncs': 4330, 'recurrence': 3524, 'anurag': 197, 'preliminary': 3299, 'peek': 3170, 'securitymanager': 3883, 'accordingly': 32, 'remind': 3600, 'mustang': 2857, 'messaging': 2729, 'headaches': 1900, 'bindinggbeans': 428, 'gbean': 1697, 'bind': 426, 'jndi': 2327, 'managedconnectionfactorywrapper': 2639, 'connectionfactory': 850, 'globalcontext': 1791, 'gbeans': 1698, 'dain': 986, 'irrelevant': 2241, 'reliably': 3593, 'fetching': 1525, 'flash': 1583, 'raw': 3472, 'apsupport': 237, 'cxfendpoint': 981, 'greatest': 1817, 'thorough': 4448, 'hmshandler': 1949, 'njain': 2931, 'ashutoshc': 272, 'affected': 90, 'shims': 3981, 'tugicontainingtransport': 4592, 'testremoteugihivemetastoreipaddress': 4420, 'ipaddresslistener': 2235, 'testremotehivemetastoreipaddress': 4419, 'tugibasedprocessor': 4591, 'tsetipaddressprocessor': 4586, 'hivemetastore': 1943, 'incorporating': 2092, 'konstantin': 2427, 'gabe': 1686, 'ognl': 3012, 'expression': 1452, 'evaluation': 1368, 'usefull': 4711, 'stated': 4183, 'xw': 4958, 'circumstances': 659, 'relied': 3594, 'thiru': 4445, 'bpofferservice': 480, 'registrationsucceeded': 3568, 'rahul': 3447, 'accounts': 34, 'customizable': 973, 'instancedescription': 2161, 'distinction': 1186, 'preferenceinferrer': 3295, 'fills': 1552, 'calculations': 547, 'sumx': 4291, 'sumy': 4292, 'biggest': 416, 'wikimore': 4869, 'michaelstockton': 2745, 'ruby': 3789, 'cm': 717, 'focusing': 1600, 'stressing': 4223, 'examples': 1392, 'developer': 1133, 'actions': 41, 'explaining': 1437, 'imposing': 2070, 'statistician': 4190, 'precondition': 3286, 'unanticipated': 4633, 'carol': 575, 'hm': 1946, 'formal': 1623, 'jan': 2278, 'dojo': 1213, 'gentle': 1716, 'reminder': 3601, 'amarsri': 156, 'numberofentriestoreplicate': 2979, 'lastentryid': 2452, 'firstentryid': 1570, 'noticing': 2962, 'ledgerfragmentreplicator': 2481, 'bookkeeperadmin': 469, 'flow': 1591, 'initiate': 2143, 'subfragment': 4255, 'callback': 552, 'encapsulate': 1313, 'lfr': 2500, 'bkadmin': 434, 'disturb': 1188, 'flows': 1592, 'confidence': 828, 'fragmentsplit': 1641, 'naoki': 2876, 'isolate': 2251, 'venkat': 4760, 'nosession': 2952, 'prevents': 3309, 'sessions': 3943, 'styling': 4251, 'attribute': 318, 'influence': 2124, 'inputsuggestajax': 2151, 'auto': 334, 'miki': 2756, 'contrib': 891, 'owl': 3100, 'zebra': 4984, 'piggybank': 3206, 'hiverc': 1945, 'dependices': 1094, 'rightly': 3746, 'guessed': 1839, 'downloading': 1225, 'cleans': 678, 'owb': 3098, 'sequencefilebase': 3916, 'biggie': 417, 'anway': 198, 'attempted': 314, 'prob': 3331, 'reintroduce': 3574, 'srimanth': 4151, 'sparse': 4114, 'vectors': 4758, 'sequence': 3915, 'vectordump': 4755, 'mahoutdriver': 2620, 'hardwired': 1880, 'extendedfieldcache': 1454, 'getlongs': 1743, 'longparser': 2580, 'balaji': 361, 'ramkrishna': 3458, 'drag': 1227, 'billinginfo': 423, 'shippinginfo': 3984, 'relationships': 3582, 'iirc': 2036, 'relationship': 3581, 'mandatory': 2643, 'problematic': 3334, 'elserj': 1303, 'nightly': 2923, 'vbr': 4753, 'johan': 2343, 'reordering': 3625, 'albeit': 123, 'justified': 2381, 'fst': 1661, 'reorder': 3624, 'sensible': 3906, 'heuristic': 1925, 'simulated': 4034, 'annealing': 179, 'optimum': 3051, 'algo': 131, 'simplistic': 4032, 'caller': 554, 'minincountderef': 2773, 'maxderefnodes': 2689, 'sophisticated': 4099, 'spare': 4112, 'arc': 242, 'flags': 1581, 'packer': 3107, 'construction': 867, 'granted': 1813, 'intermediate': 2195, 'ehm': 1287, 'morfologik': 2832, 'ords': 3060, 'pack': 3102, 'relatively': 3584, 'efficiently': 1282, 'incount': 2094, 'newaddress': 2903, 'modal': 2807, 'deref': 1106, 'efficient': 1281, 'tightly': 4481, 'coupled': 934, 'sizable': 4041, 'packed': 3106, 'unpacked': 4660, 'decouple': 1051, 'ord': 3057, 'modes': 2812, 'res': 3664, 'alex': 127, 'incovencience': 2095, 'compressed': 810, 'shrinks': 3997, 'prints': 3321, 'gordon': 1804, 'faces': 1472, 'maheshwaran': 2618, 'transparent': 4558, 'restrictedvtitest': 3693, 'predicate': 3288, 'integerlist': 2176, 'pushing': 3405, 'studies': 4245, 'pe': 3169, 'manyperformanceevaluation': 2652, 'sometable': 4092, 'mixed': 2796, 'delimited': 1080, 'deletion': 1079, 'attachments': 311, 'wtp': 4925, 'xercesj': 4934, 'supersede': 4297, 'raising': 3451, 'restpath': 3692, 'mg': 2741, 'landing': 2442, 'verification': 4763, 'filechannel': 1537, 'getchannel': 1723, 'threadclass': 4455, 'considerable': 856, 'synch': 4327, 'workflow': 4895, 'asm': 277, 'vladimir': 4798, 'skipping': 4047, 'vincent': 4782, 'validated': 4732, 'strictfo': 4226, 'fopfactory': 1614, 'strictconfig': 4225, 'strictvalidation': 4228, 'strictuserconfigvalidation': 4227, 'jeremias': 2304, 'validateuserconfigstrictly': 4735, 'darn': 991, 'refering': 3543, 'hyphenationtreeresolver': 2006, 'hyphresolver': 2007, 'inevitably': 2121, 'hyphenation': 2005, 'pageconfig': 3112, 'getchild': 1725, 'simplified': 4029, 'plug': 3228, 'usually': 4722, 'spaces': 4109, 'brackets': 482, 'adheres': 73, 'bed': 389, 'checksytle': 636, 'recreate': 3523, 'learning': 2475, 'bumps': 528, 'submissions': 4259, 'smoother': 4061, 'ode': 3001, 'jpadb': 2359, 'incomplete': 2087, 'jurgen': 2380, 'regex': 3559, 'jaastest': 2267, 'uncomment': 4636, 'jobtracker': 2340, 'practice': 3276, 'located': 2558, 'trinidad': 4575, 'jsf': 2366, 'descriptor': 1112, 'closereader': 711, 'expects': 1426, 'alright': 145, 'elevation': 1297, 'bikassaha': 419, 'abstraction': 18, 'alternate': 147, 'executionengines': 1414, 'cheolsoo': 638, 'outputstats': 3083, 'abstracted': 15, 'postore': 3267, 'construct': 865, 'scriptstate': 3862, 'ppnl': 3274, 'jobstats': 2339, 'reworking': 3734, 'executionengine': 1413, 'foundation': 1637, 'decisions': 1045, 'regard': 3554, 'pigserver': 3207, 'pigexception': 3205, 'userfacing': 4714, 'signature': 4010, 'worrisome': 4901, 'mrjobstats': 2842, 'tied': 4475, 'tasktype': 4365, 'tend': 4383, 'lean': 2474, 'audience': 323, 'markableiterator': 2667, 'markableiteratorinterface': 2668, 'testvalueiterreset': 4426, 'implies': 2063, 'instantiates': 2167, 'left': 2487, 'evolving': 1385, 'extensions': 1457, 'jobcounter': 2332, 'jobpriority': 2336, 'human': 1998, 'unstable': 4668, 'delegation': 1074, 'tasktrackerinfo': 4364, 'taskcompletionevent': 4362, 'gettaskcompletionevent': 1768, 'jobinprogress': 2335, 'schedulers': 3846, 'jobendnotifier': 2334, 'linerecordreader': 2522, 'jobprofile': 2337, 'accessible': 25, 'jobclient': 2331, 'bjerstedt': 433, 'vfs': 4773, 'demonstrates': 1085, 'threadmanagerimpl': 4457, 'webloggerfactory': 4837, 'tier': 4476, 'webloggerimpl': 4838, 'initializing': 2140, 'warn': 4821, 'rebuildwebsiteindexoperation': 3508, 'rollercontext': 3765, 'initializesecurityfeatures': 2139, 'velocity': 4759, 'ipbanfilter': 2236, 'resourceservlet': 3677, 'pageservlet': 3114, 'weblogpagecache': 4839, 'cachemanager': 544, 'expiringlrucachefactoryimpl': 1435, 'feedservlet': 1515, 'weblogfeedcache': 4835, 'weblogfeed': 4834, 'searchservlet': 3871, 'commentservlet': 761, 'commentvalidationmanager': 762, 'commentvalidator': 763, 'blacklist': 438, 'rendering': 3618, 'blacklistcommentvalidator': 439, 'excess': 1399, 'excesslinkscommentvalidator': 1400, 'excesssizecommentvalidator': 1401, 'commentvalidators': 764, 'throttling': 4463, 'planet': 3219, 'rsdservlet': 3784, 'previewresourceservlet': 3310, 'previewservlet': 3311, 'previewthemeimageservlet': 3312, 'continuousworkerthread': 889, 'hitcountqueueprocessor': 1938, 'loadblacklistfromfile': 2541, 'executeindexoperationnow': 1409, 'executing': 1411, 'stringinterner': 4231, 'karthik': 2389, 'gianmarco': 1778, 'boot': 473, 'functionquery': 1672, 'wild': 4870, 'goose': 1802, 'ruled': 3793, 'player': 3225, 'adobe': 80, 'flex': 1587, 'olaf': 3015, 'chances': 607, 'ink': 2144, 'notifications': 2964, 'attachstrategy': 312, 'pccopyfields': 3166, 'statemanager': 4184, 'afterwards': 96, 'newinstance': 2907, 'genericdata': 1713, 'strtoull': 4239, 'experienced': 1429, 'zeroed': 4986, 'platforms': 3224, 'exhibit': 1416, 'hmmm': 1948, 'infostream': 2128, 'debugging': 1039, 'immutable': 2050, 'setters': 3959, 'immutability': 2049, 'iw': 2265, 'kvm': 2434, 'zone': 4996, 'sign': 4008, 'translations': 4557, 'kryo': 2430, 'serialization': 3922, 'herbert': 1924, 'blemlist': 443, 'aiui': 113, 'buildbot': 518, 'mechanisms': 2708, 'getboolean': 1721, 'secpol': 3877, 'msc': 2845, 'privilege': 3328, 'jpa': 2358, 'jacopo': 2270, 'pdfs': 3168, 'fonts': 1609, 'rubbish': 3788, 'acrobat': 38}\n"
     ]
    }
   ],
   "source": [
    "print(Tfidf_vect.vocabulary_)"
   ]
  },
  {
   "cell_type": "code",
   "execution_count": 6,
   "metadata": {},
   "outputs": [
    {
     "name": "stdout",
     "output_type": "stream",
     "text": [
      "  (0, 4968)\t0.5476721420681181\n",
      "  (0, 3145)\t0.18363331910394823\n",
      "  (0, 1816)\t0.3720243078144083\n",
      "  (0, 585)\t0.6388204846946592\n",
      "  (0, 513)\t0.3461796233851406\n",
      "  (1, 4868)\t0.27511005879978073\n",
      "  (1, 4768)\t0.1982012056691273\n",
      "  (1, 4690)\t0.29921551342863206\n",
      "  (1, 3884)\t0.17184138548511613\n",
      "  (1, 3835)\t0.2414651480584202\n",
      "  (1, 3514)\t0.31972816278754806\n",
      "  (1, 3061)\t0.18841787519693173\n",
      "  (1, 2849)\t0.20461499224746035\n",
      "  (1, 2268)\t0.592168920262576\n",
      "  (1, 1990)\t0.21653928153616459\n",
      "  (1, 208)\t0.1850179275316532\n",
      "  (1, 92)\t0.31030037341727407\n",
      "  (2, 4100)\t1.0\n",
      "  (3, 2585)\t0.7193830826535055\n",
      "  (3, 1800)\t0.6946135475154077\n",
      "  (4, 4605)\t0.1576191985829164\n",
      "  (4, 4538)\t0.1998259244820999\n",
      "  (4, 4417)\t0.24430876021305067\n",
      "  (4, 4416)\t0.24430876021305067\n",
      "  (4, 4415)\t0.24430876021305067\n",
      "  :\t:\n",
      "  (5689, 3005)\t0.17280012632063438\n",
      "  (5689, 2851)\t0.35519502000888414\n",
      "  (5689, 2835)\t0.13096482548288457\n",
      "  (5689, 2582)\t0.09392690832894252\n",
      "  (5689, 2421)\t0.10194262713529136\n",
      "  (5689, 2420)\t0.17759751000444207\n",
      "  (5689, 2187)\t0.16556627883315778\n",
      "  (5689, 1649)\t0.17759751000444207\n",
      "  (5689, 1635)\t0.1409469743535551\n",
      "  (5689, 1574)\t0.08768723027190342\n",
      "  (5689, 1508)\t0.13035917721421342\n",
      "  (5689, 1391)\t0.13289140550474388\n",
      "  (5689, 1075)\t0.27639734594072235\n",
      "  (5689, 1044)\t0.17759751000444207\n",
      "  (5689, 1016)\t0.17759751000444207\n",
      "  (5689, 930)\t0.14194711243804342\n",
      "  (5689, 192)\t0.17280012632063438\n",
      "  (5690, 4605)\t0.30627385326743845\n",
      "  (5690, 2134)\t0.3882868103891897\n",
      "  (5690, 2028)\t0.4747225341212441\n",
      "  (5690, 1820)\t0.4747225341212441\n",
      "  (5690, 498)\t0.42812031784894156\n",
      "  (5690, 23)\t0.3484533029294379\n",
      "  (5691, 4260)\t0.9090694415064197\n",
      "  (5691, 3145)\t0.4166446333738217\n"
     ]
    }
   ],
   "source": [
    "print(X_Tfidf)"
   ]
  },
  {
   "cell_type": "markdown",
   "metadata": {},
   "source": [
    "## Training and Testing"
   ]
  },
  {
   "cell_type": "code",
   "execution_count": 7,
   "metadata": {},
   "outputs": [
    {
     "name": "stdout",
     "output_type": "stream",
     "text": [
      "   X         Y\n",
      "(4553, 5000) (4553,)\n",
      "(1139, 5000) (1139,)\n",
      "<class 'scipy.sparse.csr.csr_matrix'> <class 'pandas.core.series.Series'>\n"
     ]
    }
   ],
   "source": [
    "Train_X, Test_X, Train_Y, Test_Y = model_selection.train_test_split(X_Tfidf,Y,test_size=0.2)\n",
    "print(\"   X         Y\")\n",
    "print(Train_X.shape, Train_Y.shape) # 4553 training samples\n",
    "print(Test_X.shape, Test_Y.shape) # 1139 test samples\n",
    "print(type(Train_X), type(Train_Y))"
   ]
  },
  {
   "cell_type": "code",
   "execution_count": 8,
   "metadata": {},
   "outputs": [
    {
     "name": "stdout",
     "output_type": "stream",
     "text": [
      "76.29499561018437\n",
      "              precision    recall  f1-score   support\n",
      "\n",
      "           0       0.82      0.89      0.85       490\n",
      "           1       0.00      0.00      0.00         8\n",
      "           2       1.00      0.21      0.35        71\n",
      "           3       0.87      0.31      0.46       133\n",
      "           5       0.69      0.86      0.77       437\n",
      "\n",
      "    accuracy                           0.76      1139\n",
      "   macro avg       0.68      0.45      0.49      1139\n",
      "weighted avg       0.78      0.76      0.74      1139\n",
      "\n"
     ]
    },
    {
     "name": "stderr",
     "output_type": "stream",
     "text": [
      "C:\\Users\\Bryan\\Anaconda3\\lib\\site-packages\\sklearn\\metrics\\classification.py:1437: UndefinedMetricWarning: Precision and F-score are ill-defined and being set to 0.0 in labels with no predicted samples.\n",
      "  'precision', 'predicted', average, warn_for)\n"
     ]
    }
   ],
   "source": [
    "Naive = naive_bayes.MultinomialNB()\n",
    "Naive.fit(Train_X, Train_Y)\n",
    "predictions_NB = Naive.predict(Test_X)\n",
    "print(accuracy_score(predictions_NB, Test_Y)*100)\n",
    "print(classification_report(Test_Y, predictions_NB))"
   ]
  },
  {
   "cell_type": "code",
   "execution_count": 9,
   "metadata": {},
   "outputs": [
    {
     "name": "stdout",
     "output_type": "stream",
     "text": [
      "84.37225636523266\n",
      "              precision    recall  f1-score   support\n",
      "\n",
      "           0       0.89      0.90      0.89       490\n",
      "           1       0.00      0.00      0.00         8\n",
      "           2       0.90      0.73      0.81        71\n",
      "           3       0.85      0.62      0.72       133\n",
      "           5       0.79      0.88      0.83       437\n",
      "\n",
      "    accuracy                           0.84      1139\n",
      "   macro avg       0.68      0.63      0.65      1139\n",
      "weighted avg       0.84      0.84      0.84      1139\n",
      "\n"
     ]
    }
   ],
   "source": [
    "SVM = svm.SVC(C=1.0, kernel='linear', degree=3, gamma='auto')\n",
    "SVM.fit(Train_X, Train_Y)\n",
    "predictions_SVM = SVM.predict(Test_X)\n",
    "print(accuracy_score(predictions_SVM, Test_Y)*100)\n",
    "print(classification_report(Test_Y, predictions_SVM))"
   ]
  },
  {
   "cell_type": "code",
   "execution_count": 10,
   "metadata": {},
   "outputs": [
    {
     "name": "stderr",
     "output_type": "stream",
     "text": [
      "C:\\Users\\Bryan\\Anaconda3\\lib\\site-packages\\sklearn\\discriminant_analysis.py:388: UserWarning: Variables are collinear.\n",
      "  warnings.warn(\"Variables are collinear.\")\n"
     ]
    },
    {
     "name": "stdout",
     "output_type": "stream",
     "text": [
      "80.59701492537313\n",
      "              precision    recall  f1-score   support\n",
      "\n",
      "           0       0.85      0.82      0.84       490\n",
      "           1       0.00      0.00      0.00         8\n",
      "           2       0.81      0.70      0.75        71\n",
      "           3       0.70      0.61      0.65       133\n",
      "           5       0.79      0.88      0.83       437\n",
      "\n",
      "    accuracy                           0.81      1139\n",
      "   macro avg       0.63      0.60      0.61      1139\n",
      "weighted avg       0.80      0.81      0.80      1139\n",
      "\n"
     ]
    }
   ],
   "source": [
    "LDA = LinearDiscriminantAnalysis()\n",
    "LDA.fit(Train_X.toarray(), Train_Y)\n",
    "predictions_LDA = LDA.predict(Test_X)\n",
    "print(accuracy_score(predictions_LDA, Test_Y)*100)\n",
    "print(classification_report(Test_Y, predictions_LDA))"
   ]
  },
  {
   "cell_type": "code",
   "execution_count": 11,
   "metadata": {},
   "outputs": [
    {
     "name": "stdout",
     "output_type": "stream",
     "text": [
      "56.8920105355575\n",
      "              precision    recall  f1-score   support\n",
      "\n",
      "           0       0.71      0.92      0.80       490\n",
      "           1       0.00      0.00      0.00         8\n",
      "           2       1.00      0.35      0.52        71\n",
      "           3       0.27      0.80      0.40       133\n",
      "           5       0.87      0.15      0.25       437\n",
      "\n",
      "    accuracy                           0.57      1139\n",
      "   macro avg       0.57      0.45      0.40      1139\n",
      "weighted avg       0.73      0.57      0.52      1139\n",
      "\n"
     ]
    },
    {
     "name": "stderr",
     "output_type": "stream",
     "text": [
      "C:\\Users\\Bryan\\Anaconda3\\lib\\site-packages\\sklearn\\metrics\\classification.py:1437: UndefinedMetricWarning: Precision and F-score are ill-defined and being set to 0.0 in labels with no predicted samples.\n",
      "  'precision', 'predicted', average, warn_for)\n"
     ]
    }
   ],
   "source": [
    "KNN = KNeighborsClassifier(n_neighbors=10)\n",
    "KNN.fit(Train_X, Train_Y)\n",
    "predictions_KNN = KNN.predict(Test_X)\n",
    "print(accuracy_score(predictions_KNN, Test_Y)*100)\n",
    "print(classification_report(Test_Y, predictions_KNN))"
   ]
  },
  {
   "cell_type": "code",
   "execution_count": 12,
   "metadata": {},
   "outputs": [],
   "source": [
    "Y_ohe = keras.utils.to_categorical(Y, 6)"
   ]
  },
  {
   "cell_type": "code",
   "execution_count": 13,
   "metadata": {},
   "outputs": [],
   "source": [
    "Train_X, Test_X, Train_Y, Test_Y = model_selection.train_test_split(X_Tfidf,Y_ohe,test_size=0.2)"
   ]
  },
  {
   "cell_type": "code",
   "execution_count": 14,
   "metadata": {},
   "outputs": [
    {
     "name": "stderr",
     "output_type": "stream",
     "text": [
      "WARNING: Logging before flag parsing goes to stderr.\n",
      "W0809 00:58:28.643334 11424 deprecation_wrapper.py:119] From C:\\Users\\Bryan\\Anaconda3\\lib\\site-packages\\keras\\backend\\tensorflow_backend.py:74: The name tf.get_default_graph is deprecated. Please use tf.compat.v1.get_default_graph instead.\n",
      "\n",
      "W0809 00:58:28.695200 11424 deprecation_wrapper.py:119] From C:\\Users\\Bryan\\Anaconda3\\lib\\site-packages\\keras\\backend\\tensorflow_backend.py:517: The name tf.placeholder is deprecated. Please use tf.compat.v1.placeholder instead.\n",
      "\n",
      "W0809 00:58:28.711161 11424 deprecation_wrapper.py:119] From C:\\Users\\Bryan\\Anaconda3\\lib\\site-packages\\keras\\backend\\tensorflow_backend.py:4138: The name tf.random_uniform is deprecated. Please use tf.random.uniform instead.\n",
      "\n",
      "W0809 00:58:28.769080 11424 deprecation_wrapper.py:119] From C:\\Users\\Bryan\\Anaconda3\\lib\\site-packages\\keras\\backend\\tensorflow_backend.py:133: The name tf.placeholder_with_default is deprecated. Please use tf.compat.v1.placeholder_with_default instead.\n",
      "\n",
      "W0809 00:58:28.781049 11424 deprecation.py:506] From C:\\Users\\Bryan\\Anaconda3\\lib\\site-packages\\keras\\backend\\tensorflow_backend.py:3445: calling dropout (from tensorflow.python.ops.nn_ops) with keep_prob is deprecated and will be removed in a future version.\n",
      "Instructions for updating:\n",
      "Please use `rate` instead of `keep_prob`. Rate should be set to `rate = 1 - keep_prob`.\n"
     ]
    }
   ],
   "source": [
    "model = Sequential()\n",
    "model.add(Dense(2500, input_shape=(5000,)))\n",
    "model.add(Activation('relu'))\n",
    "model.add(Dense(1000))\n",
    "model.add(Activation('relu'))\n",
    "model.add(Dropout(0.5))\n",
    "model.add(Dense(6))\n",
    "model.add(Activation('softmax'))"
   ]
  },
  {
   "cell_type": "code",
   "execution_count": 15,
   "metadata": {},
   "outputs": [
    {
     "name": "stderr",
     "output_type": "stream",
     "text": [
      "W0809 00:58:28.848787 11424 deprecation_wrapper.py:119] From C:\\Users\\Bryan\\Anaconda3\\lib\\site-packages\\keras\\optimizers.py:790: The name tf.train.Optimizer is deprecated. Please use tf.compat.v1.train.Optimizer instead.\n",
      "\n",
      "W0809 00:58:28.895660 11424 deprecation_wrapper.py:119] From C:\\Users\\Bryan\\Anaconda3\\lib\\site-packages\\keras\\backend\\tensorflow_backend.py:3295: The name tf.log is deprecated. Please use tf.math.log instead.\n",
      "\n"
     ]
    },
    {
     "name": "stdout",
     "output_type": "stream",
     "text": [
      "['loss', 'acc']\n"
     ]
    }
   ],
   "source": [
    "model.compile(loss='categorical_crossentropy', optimizer='adam', metrics=['accuracy'])\n",
    "print(model.metrics_names)"
   ]
  },
  {
   "cell_type": "code",
   "execution_count": 16,
   "metadata": {},
   "outputs": [
    {
     "name": "stderr",
     "output_type": "stream",
     "text": [
      "W0809 00:58:29.164968 11424 deprecation.py:323] From C:\\Users\\Bryan\\Anaconda3\\lib\\site-packages\\tensorflow\\python\\ops\\math_grad.py:1250: add_dispatch_support.<locals>.wrapper (from tensorflow.python.ops.array_ops) is deprecated and will be removed in a future version.\n",
      "Instructions for updating:\n",
      "Use tf.where in 2.0, which has the same broadcast rule as np.where\n"
     ]
    },
    {
     "name": "stdout",
     "output_type": "stream",
     "text": [
      "Train on 3642 samples, validate on 911 samples\n",
      "Epoch 1/5\n",
      "3642/3642 [==============================] - 16s 4ms/step - loss: 0.9567 - acc: 0.6604 - val_loss: 0.5450 - val_acc: 0.8200\n",
      "Epoch 2/5\n",
      "3642/3642 [==============================] - 15s 4ms/step - loss: 0.3699 - acc: 0.8811 - val_loss: 0.5071 - val_acc: 0.8496\n",
      "Epoch 3/5\n",
      "3642/3642 [==============================] - 14s 4ms/step - loss: 0.2146 - acc: 0.9195 - val_loss: 0.5140 - val_acc: 0.8474\n",
      "Epoch 4/5\n",
      "3642/3642 [==============================] - 15s 4ms/step - loss: 0.1743 - acc: 0.9272 - val_loss: 0.5872 - val_acc: 0.8452\n",
      "Epoch 5/5\n",
      "3642/3642 [==============================] - 17s 5ms/step - loss: 0.1596 - acc: 0.9314 - val_loss: 0.5527 - val_acc: 0.8441\n",
      "1139/1139 [==============================] - 1s 577us/step\n",
      "\n",
      "Test loss: 56.782248739195666\n",
      "Test accuracy: 83.40649650325055\n"
     ]
    }
   ],
   "source": [
    "history = model.fit(Train_X, Train_Y, batch_size=100, epochs=5, verbose=1, validation_split=0.2)\n",
    "score = model.evaluate(Test_X, Test_Y, batch_size=100, verbose=1)\n",
    "\n",
    "print('\\nTest loss:', score[0]*100)\n",
    "print('Test accuracy:', score[1]*100)"
   ]
  },
  {
   "cell_type": "code",
   "execution_count": 17,
   "metadata": {},
   "outputs": [
    {
     "data": {
      "image/png": "[encoded data removed]",
      "text/plain": [
       "<Figure size 432x288 with 1 Axes>"
      ]
     },
     "metadata": {
      "needs_background": "light"
     },
     "output_type": "display_data"
    },
    {
     "data": {
      "image/png": "[encoded data removed]",
      "text/plain": [
       "<Figure size 432x288 with 1 Axes>"
      ]
     },
     "metadata": {
      "needs_background": "light"
     },
     "output_type": "display_data"
    }
   ],
   "source": [
    "acc = history.history['acc']\n",
    "val_acc = history.history['val_acc']\n",
    "loss = history.history['loss']\n",
    "val_loss = history.history['val_loss']\n",
    "epochs = range(1, len(acc) + 1)\n",
    "plt.plot(epochs, acc, 'ro', label='Training acc')\n",
    "plt.plot(epochs, val_acc, 'g', label='Validation acc')\n",
    "plt.title('Training and validation accuracy')\n",
    "plt.legend()\n",
    "plt.figure()\n",
    "plt.plot(epochs, loss, 'ro', label='Training loss')\n",
    "plt.plot(epochs, val_loss, 'g', label='Validation loss')\n",
    "plt.title('Training and validation loss')\n",
    "plt.legend()\n",
    "plt.show()"
   ]
  },
  {
   "cell_type": "code",
   "execution_count": 18,
   "metadata": {},
   "outputs": [
    {
     "data": {
      "image/png": "[encoded data removed]",
      "text/plain": [
       "<Figure size 576x432 with 2 Axes>"
      ]
     },
     "metadata": {
      "needs_background": "light"
     },
     "output_type": "display_data"
    }
   ],
   "source": [
    "y_orig = np.argmax(Test_Y, axis=1)\n",
    "probs = model.predict(Test_X)\n",
    "preds = np.argmax(probs, axis=1)\n",
    "cm = confusion_matrix(y_orig, preds)\n",
    "\n",
    "def plot_confusion_matrix(cm,\n",
    "                          target_names,\n",
    "                          title='Confusion matrix',\n",
    "                          cmap=None,\n",
    "                          normalize=True):\n",
    "\n",
    "    import matplotlib.pyplot as plt\n",
    "    import numpy as np\n",
    "    import itertools\n",
    "\n",
    "    accuracy = np.trace(cm) / float(np.sum(cm))\n",
    "    misclass = 1 - accuracy\n",
    "\n",
    "    if cmap is None:\n",
    "        cmap = plt.get_cmap('Blues')\n",
    "\n",
    "    plt.figure(figsize=(8, 6))\n",
    "    plt.imshow(cm, interpolation='nearest', cmap=cmap)\n",
    "    plt.title(title)\n",
    "    plt.colorbar()\n",
    "\n",
    "    if target_names is not None:\n",
    "        tick_marks = np.arange(len(target_names))\n",
    "        plt.xticks(tick_marks, target_names, rotation=45)\n",
    "        plt.yticks(tick_marks, target_names)\n",
    "\n",
    "    if normalize:\n",
    "        cm = cm.astype('float') / cm.sum(axis=1)[:, np.newaxis]\n",
    "\n",
    "\n",
    "    thresh = cm.max() / 1.5 if normalize else cm.max() / 2\n",
    "    for i, j in itertools.product(range(cm.shape[0]), range(cm.shape[1])):\n",
    "        if normalize:\n",
    "            plt.text(j, i, \"{:0.4f}\".format(cm[i, j]),\n",
    "                     horizontalalignment=\"center\",\n",
    "                     color=\"white\" if cm[i, j] > thresh else \"black\")\n",
    "        else:\n",
    "            plt.text(j, i, \"{:,}\".format(cm[i, j]),\n",
    "                     horizontalalignment=\"center\",\n",
    "                     color=\"white\" if cm[i, j] > thresh else \"black\")\n",
    "\n",
    "\n",
    "    plt.tight_layout()\n",
    "    plt.ylabel('True label')\n",
    "    plt.xlabel('Predicted label\\naccuracy={:0.4f}; misclass={:0.4f}'.format(accuracy, misclass))\n",
    "    plt.show()\n",
    "\n",
    "plot_confusion_matrix(cm, \n",
    "                      normalize    = False,\n",
    "                      target_names = ['Love/Joy', 'Surprise', 'Anger', 'Sadness', 'Neutral', 'Fear'],\n",
    "                      title        = \"Confusion Matrix\")"
   ]
  }
 ],
 "metadata": {
  "kernelspec": {
   "display_name": "Python 3",
   "language": "python",
   "name": "python3"
  },
  "language_info": {
   "codemirror_mode": {
    "name": "ipython",
    "version": 3
   },
   "file_extension": ".py",
   "mimetype": "text/x-python",
   "name": "python",
   "nbconvert_exporter": "python",
   "pygments_lexer": "ipython3",
   "version": "3.6.8"
  }
 },
 "nbformat": 4,
 "nbformat_minor": 2
}
